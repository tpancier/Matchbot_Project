{
 "cells": [
  {
   "cell_type": "markdown",
   "metadata": {},
   "source": [
    "# 3) EDA"
   ]
  },
  {
   "cell_type": "markdown",
   "metadata": {},
   "source": [
    "**Summary of main data used in the analysis**"
   ]
  },
  {
   "cell_type": "markdown",
   "metadata": {},
   "source": [
    "Ratings used in the EDA:\n",
    "\n",
    "- at sign up:\n",
    "    1) attributes importance: participants assigned a scale of 0 to 1 to each attribute (attractiveness, sincerity, intelligence, ambition, fun) based on importance of finding this attribute in a partner;\n",
    "    2) self evaluation: each participant assigned a scale of 0 to 1 to each attribute as a self evaluation\n",
    "- during event:\n",
    "    1) partner evaluation: rating from 0 to 1 provided on 6 attributes (attractiveness, sincerity, intelligence, ambition, fun, shared interests) based on their dating\n",
    "    \n",
    "Other data used in the analysis:\n",
    "- like (1 to 10): scale that indicates how much a participant like the other in each date\n",
    "- dec (0 or 1): indicate if one participant said yes (dec = 1) to a 2nd date\n",
    "- match (0 or 1): indicate if there was a match (match = 1) between 2 participants (both participants said yes to a 2nd date)"
   ]
  },
  {
   "cell_type": "markdown",
   "metadata": {},
   "source": [
    "**Importing file**"
   ]
  },
  {
   "cell_type": "code",
   "execution_count": 483,
   "metadata": {},
   "outputs": [
    {
     "data": {
      "text/plain": [
       "(8378, 74)"
      ]
     },
     "execution_count": 483,
     "metadata": {},
     "output_type": "execute_result"
    }
   ],
   "source": [
    "import pandas as pd\n",
    "import matplotlib.pyplot as plt\n",
    "import seaborn as sns\n",
    "\n",
    "dating_data_clean = pd.read_csv('dating_data_clean.csv')\n",
    "dating_data_clean.shape"
   ]
  },
  {
   "cell_type": "code",
   "execution_count": 484,
   "metadata": {},
   "outputs": [
    {
     "data": {
      "text/plain": [
       "(8130, 74)"
      ]
     },
     "execution_count": 484,
     "metadata": {},
     "output_type": "execute_result"
    }
   ],
   "source": [
    "# Drop rows with zero in like:\n",
    "\n",
    "dating_data_clean['like'] != 0\n",
    "dating_data_clean = dating_data_clean[dating_data_clean['like'] != 0]\n",
    "dating_data_clean.shape"
   ]
  },
  {
   "cell_type": "code",
   "execution_count": 485,
   "metadata": {},
   "outputs": [
    {
     "data": {
      "text/plain": [
       "['iid',\n",
       " 'id',\n",
       " 'gender',\n",
       " 'idg',\n",
       " 'wave',\n",
       " 'partner',\n",
       " 'pid',\n",
       " 'match',\n",
       " 'dec_o',\n",
       " 'field_cd',\n",
       " 'goal',\n",
       " 'date',\n",
       " 'go_out',\n",
       " 'career_c',\n",
       " 'dec',\n",
       " 'met',\n",
       " 'date_3']"
      ]
     },
     "execution_count": 485,
     "metadata": {},
     "output_type": "execute_result"
    }
   ],
   "source": [
    "data_columns = pd.read_csv(\"data_columns.csv\")\n",
    "\n",
    "cat_col = list(data_columns[(data_columns['Variable_type'] == 'Categorical')  & (data_columns['Drop_column'] != 'x')]['Column'])\n",
    "cat_col"
   ]
  },
  {
   "cell_type": "code",
   "execution_count": 486,
   "metadata": {},
   "outputs": [
    {
     "data": {
      "text/plain": [
       "['iid',\n",
       " 'gender',\n",
       " 'idg',\n",
       " 'partner',\n",
       " 'pid',\n",
       " 'match',\n",
       " 'dec_o',\n",
       " 'field_cd',\n",
       " 'goal',\n",
       " 'date',\n",
       " 'go_out',\n",
       " 'career_c',\n",
       " 'dec',\n",
       " 'met']"
      ]
     },
     "execution_count": 486,
     "metadata": {},
     "output_type": "execute_result"
    }
   ],
   "source": [
    "for column in cat_col:\n",
    "    if column not in dating_data_clean:\n",
    "        cat_col.remove(column)\n",
    "\n",
    "cat_col"
   ]
  },
  {
   "cell_type": "code",
   "execution_count": 487,
   "metadata": {},
   "outputs": [
    {
     "data": {
      "text/plain": [
       "['pf_o_att',\n",
       " 'pf_o_sin',\n",
       " 'pf_o_int',\n",
       " 'pf_o_fun',\n",
       " 'pf_o_amb',\n",
       " 'pf_o_sha',\n",
       " 'attr_o',\n",
       " 'sinc_o',\n",
       " 'intel_o',\n",
       " 'fun_o',\n",
       " 'amb_o',\n",
       " 'shar_o',\n",
       " 'like_o',\n",
       " 'prob_o',\n",
       " 'met_o',\n",
       " 'age',\n",
       " 'sports',\n",
       " 'tvsports',\n",
       " 'exercise',\n",
       " 'dining',\n",
       " 'museums',\n",
       " 'art',\n",
       " 'hiking',\n",
       " 'gaming',\n",
       " 'clubbing',\n",
       " 'reading',\n",
       " 'tv',\n",
       " 'theater',\n",
       " 'movies',\n",
       " 'concerts',\n",
       " 'music',\n",
       " 'shopping',\n",
       " 'yoga',\n",
       " 'exphappy',\n",
       " 'expnum',\n",
       " 'attr1_1',\n",
       " 'sinc1_1',\n",
       " 'intel1_1',\n",
       " 'fun1_1',\n",
       " 'amb1_1',\n",
       " 'shar1_1',\n",
       " 'attr3_1',\n",
       " 'sinc3_1',\n",
       " 'fun3_1',\n",
       " 'intel3_1',\n",
       " 'amb3_1',\n",
       " 'attr',\n",
       " 'sinc',\n",
       " 'intel',\n",
       " 'fun',\n",
       " 'amb',\n",
       " 'shar',\n",
       " 'like',\n",
       " 'prob',\n",
       " 'match_es',\n",
       " 'attr3_s',\n",
       " 'sinc3_s',\n",
       " 'intel3_s',\n",
       " 'fun3_s',\n",
       " 'amb3_s']"
      ]
     },
     "execution_count": 487,
     "metadata": {},
     "output_type": "execute_result"
    }
   ],
   "source": [
    "cat_num = []\n",
    "for item in list(dating_data_clean.columns):\n",
    "    if item not in cat_col:\n",
    "        cat_num.append(item)\n",
    "\n",
    "cat_num"
   ]
  },
  {
   "cell_type": "markdown",
   "metadata": {},
   "source": [
    "**Stats for categorical data**"
   ]
  },
  {
   "cell_type": "code",
   "execution_count": 482,
   "metadata": {},
   "outputs": [
    {
     "data": {
      "text/html": [
       "<div>\n",
       "<style scoped>\n",
       "    .dataframe tbody tr th:only-of-type {\n",
       "        vertical-align: middle;\n",
       "    }\n",
       "\n",
       "    .dataframe tbody tr th {\n",
       "        vertical-align: top;\n",
       "    }\n",
       "\n",
       "    .dataframe thead th {\n",
       "        text-align: right;\n",
       "    }\n",
       "</style>\n",
       "<table border=\"1\" class=\"dataframe\">\n",
       "  <thead>\n",
       "    <tr style=\"text-align: right;\">\n",
       "      <th></th>\n",
       "      <th>iid</th>\n",
       "      <th>gender</th>\n",
       "      <th>idg</th>\n",
       "      <th>partner</th>\n",
       "      <th>pid</th>\n",
       "      <th>match</th>\n",
       "      <th>dec_o</th>\n",
       "      <th>field_cd</th>\n",
       "      <th>goal</th>\n",
       "      <th>date</th>\n",
       "      <th>go_out</th>\n",
       "      <th>career_c</th>\n",
       "      <th>dec</th>\n",
       "      <th>met</th>\n",
       "    </tr>\n",
       "  </thead>\n",
       "  <tbody>\n",
       "    <tr>\n",
       "      <th>count</th>\n",
       "      <td>8130.000000</td>\n",
       "      <td>8130.000000</td>\n",
       "      <td>8130.000000</td>\n",
       "      <td>8130.000000</td>\n",
       "      <td>8130.000000</td>\n",
       "      <td>8130.000000</td>\n",
       "      <td>8130.000000</td>\n",
       "      <td>8057.000000</td>\n",
       "      <td>8061.000000</td>\n",
       "      <td>8043.000000</td>\n",
       "      <td>8061.000000</td>\n",
       "      <td>8002.000000</td>\n",
       "      <td>8130.000000</td>\n",
       "      <td>7957.000000</td>\n",
       "    </tr>\n",
       "    <tr>\n",
       "      <th>mean</th>\n",
       "      <td>281.257073</td>\n",
       "      <td>0.502829</td>\n",
       "      <td>17.285486</td>\n",
       "      <td>8.938991</td>\n",
       "      <td>281.174047</td>\n",
       "      <td>0.169250</td>\n",
       "      <td>0.426691</td>\n",
       "      <td>7.655703</td>\n",
       "      <td>2.121449</td>\n",
       "      <td>5.003854</td>\n",
       "      <td>2.157673</td>\n",
       "      <td>5.258185</td>\n",
       "      <td>0.430627</td>\n",
       "      <td>0.949604</td>\n",
       "    </tr>\n",
       "    <tr>\n",
       "      <th>std</th>\n",
       "      <td>158.173427</td>\n",
       "      <td>0.500023</td>\n",
       "      <td>10.931250</td>\n",
       "      <td>5.478413</td>\n",
       "      <td>158.148539</td>\n",
       "      <td>0.374995</td>\n",
       "      <td>0.494627</td>\n",
       "      <td>3.744856</td>\n",
       "      <td>1.407799</td>\n",
       "      <td>1.445214</td>\n",
       "      <td>1.107643</td>\n",
       "      <td>3.305784</td>\n",
       "      <td>0.495194</td>\n",
       "      <td>0.989944</td>\n",
       "    </tr>\n",
       "    <tr>\n",
       "      <th>min</th>\n",
       "      <td>1.000000</td>\n",
       "      <td>0.000000</td>\n",
       "      <td>1.000000</td>\n",
       "      <td>1.000000</td>\n",
       "      <td>1.000000</td>\n",
       "      <td>0.000000</td>\n",
       "      <td>0.000000</td>\n",
       "      <td>1.000000</td>\n",
       "      <td>1.000000</td>\n",
       "      <td>1.000000</td>\n",
       "      <td>1.000000</td>\n",
       "      <td>1.000000</td>\n",
       "      <td>0.000000</td>\n",
       "      <td>0.000000</td>\n",
       "    </tr>\n",
       "    <tr>\n",
       "      <th>25%</th>\n",
       "      <td>152.000000</td>\n",
       "      <td>0.000000</td>\n",
       "      <td>8.000000</td>\n",
       "      <td>4.000000</td>\n",
       "      <td>152.000000</td>\n",
       "      <td>0.000000</td>\n",
       "      <td>0.000000</td>\n",
       "      <td>5.000000</td>\n",
       "      <td>1.000000</td>\n",
       "      <td>4.000000</td>\n",
       "      <td>1.000000</td>\n",
       "      <td>2.000000</td>\n",
       "      <td>0.000000</td>\n",
       "      <td>0.000000</td>\n",
       "    </tr>\n",
       "    <tr>\n",
       "      <th>50%</th>\n",
       "      <td>278.000000</td>\n",
       "      <td>1.000000</td>\n",
       "      <td>16.000000</td>\n",
       "      <td>8.000000</td>\n",
       "      <td>278.000000</td>\n",
       "      <td>0.000000</td>\n",
       "      <td>0.000000</td>\n",
       "      <td>8.000000</td>\n",
       "      <td>2.000000</td>\n",
       "      <td>5.000000</td>\n",
       "      <td>2.000000</td>\n",
       "      <td>6.000000</td>\n",
       "      <td>0.000000</td>\n",
       "      <td>0.000000</td>\n",
       "    </tr>\n",
       "    <tr>\n",
       "      <th>75%</th>\n",
       "      <td>406.000000</td>\n",
       "      <td>1.000000</td>\n",
       "      <td>26.000000</td>\n",
       "      <td>13.000000</td>\n",
       "      <td>406.000000</td>\n",
       "      <td>0.000000</td>\n",
       "      <td>1.000000</td>\n",
       "      <td>10.000000</td>\n",
       "      <td>2.000000</td>\n",
       "      <td>6.000000</td>\n",
       "      <td>3.000000</td>\n",
       "      <td>7.000000</td>\n",
       "      <td>1.000000</td>\n",
       "      <td>2.000000</td>\n",
       "    </tr>\n",
       "    <tr>\n",
       "      <th>max</th>\n",
       "      <td>552.000000</td>\n",
       "      <td>1.000000</td>\n",
       "      <td>44.000000</td>\n",
       "      <td>22.000000</td>\n",
       "      <td>552.000000</td>\n",
       "      <td>1.000000</td>\n",
       "      <td>1.000000</td>\n",
       "      <td>18.000000</td>\n",
       "      <td>6.000000</td>\n",
       "      <td>7.000000</td>\n",
       "      <td>7.000000</td>\n",
       "      <td>17.000000</td>\n",
       "      <td>1.000000</td>\n",
       "      <td>8.000000</td>\n",
       "    </tr>\n",
       "  </tbody>\n",
       "</table>\n",
       "</div>"
      ],
      "text/plain": [
       "               iid       gender          idg      partner          pid  \\\n",
       "count  8130.000000  8130.000000  8130.000000  8130.000000  8130.000000   \n",
       "mean    281.257073     0.502829    17.285486     8.938991   281.174047   \n",
       "std     158.173427     0.500023    10.931250     5.478413   158.148539   \n",
       "min       1.000000     0.000000     1.000000     1.000000     1.000000   \n",
       "25%     152.000000     0.000000     8.000000     4.000000   152.000000   \n",
       "50%     278.000000     1.000000    16.000000     8.000000   278.000000   \n",
       "75%     406.000000     1.000000    26.000000    13.000000   406.000000   \n",
       "max     552.000000     1.000000    44.000000    22.000000   552.000000   \n",
       "\n",
       "             match        dec_o     field_cd         goal         date  \\\n",
       "count  8130.000000  8130.000000  8057.000000  8061.000000  8043.000000   \n",
       "mean      0.169250     0.426691     7.655703     2.121449     5.003854   \n",
       "std       0.374995     0.494627     3.744856     1.407799     1.445214   \n",
       "min       0.000000     0.000000     1.000000     1.000000     1.000000   \n",
       "25%       0.000000     0.000000     5.000000     1.000000     4.000000   \n",
       "50%       0.000000     0.000000     8.000000     2.000000     5.000000   \n",
       "75%       0.000000     1.000000    10.000000     2.000000     6.000000   \n",
       "max       1.000000     1.000000    18.000000     6.000000     7.000000   \n",
       "\n",
       "            go_out     career_c          dec          met  \n",
       "count  8061.000000  8002.000000  8130.000000  7957.000000  \n",
       "mean      2.157673     5.258185     0.430627     0.949604  \n",
       "std       1.107643     3.305784     0.495194     0.989944  \n",
       "min       1.000000     1.000000     0.000000     0.000000  \n",
       "25%       1.000000     2.000000     0.000000     0.000000  \n",
       "50%       2.000000     6.000000     0.000000     0.000000  \n",
       "75%       3.000000     7.000000     1.000000     2.000000  \n",
       "max       7.000000    17.000000     1.000000     8.000000  "
      ]
     },
     "execution_count": 482,
     "metadata": {},
     "output_type": "execute_result"
    }
   ],
   "source": [
    "dating_data_clean[cat_col].describe()"
   ]
  },
  {
   "cell_type": "markdown",
   "metadata": {},
   "source": [
    "**Stats for numerical data**"
   ]
  },
  {
   "cell_type": "code",
   "execution_count": 371,
   "metadata": {},
   "outputs": [
    {
     "data": {
      "text/html": [
       "<div>\n",
       "<style scoped>\n",
       "    .dataframe tbody tr th:only-of-type {\n",
       "        vertical-align: middle;\n",
       "    }\n",
       "\n",
       "    .dataframe tbody tr th {\n",
       "        vertical-align: top;\n",
       "    }\n",
       "\n",
       "    .dataframe thead th {\n",
       "        text-align: right;\n",
       "    }\n",
       "</style>\n",
       "<table border=\"1\" class=\"dataframe\">\n",
       "  <thead>\n",
       "    <tr style=\"text-align: right;\">\n",
       "      <th></th>\n",
       "      <th>pf_o_att</th>\n",
       "      <th>pf_o_sin</th>\n",
       "      <th>pf_o_int</th>\n",
       "      <th>pf_o_fun</th>\n",
       "      <th>pf_o_amb</th>\n",
       "      <th>pf_o_sha</th>\n",
       "      <th>attr_o</th>\n",
       "      <th>sinc_o</th>\n",
       "      <th>intel_o</th>\n",
       "      <th>fun_o</th>\n",
       "      <th>amb_o</th>\n",
       "      <th>shar_o</th>\n",
       "      <th>like_o</th>\n",
       "      <th>prob_o</th>\n",
       "      <th>met_o</th>\n",
       "      <th>age</th>\n",
       "      <th>sports</th>\n",
       "      <th>tvsports</th>\n",
       "      <th>exercise</th>\n",
       "      <th>dining</th>\n",
       "    </tr>\n",
       "  </thead>\n",
       "  <tbody>\n",
       "    <tr>\n",
       "      <th>count</th>\n",
       "      <td>8130.000000</td>\n",
       "      <td>8130.000000</td>\n",
       "      <td>8130.000000</td>\n",
       "      <td>8130.000000</td>\n",
       "      <td>8130.000000</td>\n",
       "      <td>8130.000000</td>\n",
       "      <td>8130.000000</td>\n",
       "      <td>8130.000000</td>\n",
       "      <td>8130.000000</td>\n",
       "      <td>8130.000000</td>\n",
       "      <td>8130.000000</td>\n",
       "      <td>8130.000000</td>\n",
       "      <td>8130.000000</td>\n",
       "      <td>8130.000000</td>\n",
       "      <td>8130.000000</td>\n",
       "      <td>8048.000000</td>\n",
       "      <td>8061.000000</td>\n",
       "      <td>8061.000000</td>\n",
       "      <td>8061.000000</td>\n",
       "      <td>8061.000000</td>\n",
       "    </tr>\n",
       "    <tr>\n",
       "      <th>mean</th>\n",
       "      <td>0.222107</td>\n",
       "      <td>0.172365</td>\n",
       "      <td>0.200896</td>\n",
       "      <td>0.172457</td>\n",
       "      <td>0.105650</td>\n",
       "      <td>0.116563</td>\n",
       "      <td>0.163884</td>\n",
       "      <td>0.187610</td>\n",
       "      <td>0.192557</td>\n",
       "      <td>0.161870</td>\n",
       "      <td>0.163532</td>\n",
       "      <td>0.121938</td>\n",
       "      <td>6.055375</td>\n",
       "      <td>5.096740</td>\n",
       "      <td>1.900000</td>\n",
       "      <td>26.349776</td>\n",
       "      <td>6.442005</td>\n",
       "      <td>4.593475</td>\n",
       "      <td>6.252822</td>\n",
       "      <td>7.781045</td>\n",
       "    </tr>\n",
       "    <tr>\n",
       "      <th>std</th>\n",
       "      <td>0.126758</td>\n",
       "      <td>0.072189</td>\n",
       "      <td>0.070595</td>\n",
       "      <td>0.063222</td>\n",
       "      <td>0.060819</td>\n",
       "      <td>0.064700</td>\n",
       "      <td>0.060827</td>\n",
       "      <td>0.053763</td>\n",
       "      <td>0.050290</td>\n",
       "      <td>0.047725</td>\n",
       "      <td>0.059980</td>\n",
       "      <td>0.059964</td>\n",
       "      <td>1.963109</td>\n",
       "      <td>2.241979</td>\n",
       "      <td>0.416137</td>\n",
       "      <td>3.568158</td>\n",
       "      <td>2.610205</td>\n",
       "      <td>2.799167</td>\n",
       "      <td>2.414666</td>\n",
       "      <td>1.756538</td>\n",
       "    </tr>\n",
       "    <tr>\n",
       "      <th>min</th>\n",
       "      <td>0.000000</td>\n",
       "      <td>0.000000</td>\n",
       "      <td>0.000000</td>\n",
       "      <td>0.000000</td>\n",
       "      <td>0.000000</td>\n",
       "      <td>0.000000</td>\n",
       "      <td>0.000000</td>\n",
       "      <td>0.000000</td>\n",
       "      <td>0.000000</td>\n",
       "      <td>0.000000</td>\n",
       "      <td>0.000000</td>\n",
       "      <td>0.000000</td>\n",
       "      <td>0.000000</td>\n",
       "      <td>0.000000</td>\n",
       "      <td>0.000000</td>\n",
       "      <td>18.000000</td>\n",
       "      <td>1.000000</td>\n",
       "      <td>1.000000</td>\n",
       "      <td>1.000000</td>\n",
       "      <td>1.000000</td>\n",
       "    </tr>\n",
       "    <tr>\n",
       "      <th>25%</th>\n",
       "      <td>0.150000</td>\n",
       "      <td>0.150000</td>\n",
       "      <td>0.173100</td>\n",
       "      <td>0.150000</td>\n",
       "      <td>0.050000</td>\n",
       "      <td>0.080000</td>\n",
       "      <td>0.137931</td>\n",
       "      <td>0.166667</td>\n",
       "      <td>0.170213</td>\n",
       "      <td>0.146341</td>\n",
       "      <td>0.148936</td>\n",
       "      <td>0.095238</td>\n",
       "      <td>5.000000</td>\n",
       "      <td>4.000000</td>\n",
       "      <td>2.000000</td>\n",
       "      <td>24.000000</td>\n",
       "      <td>5.000000</td>\n",
       "      <td>2.000000</td>\n",
       "      <td>5.000000</td>\n",
       "      <td>7.000000</td>\n",
       "    </tr>\n",
       "    <tr>\n",
       "      <th>50%</th>\n",
       "      <td>0.200000</td>\n",
       "      <td>0.180000</td>\n",
       "      <td>0.200000</td>\n",
       "      <td>0.180000</td>\n",
       "      <td>0.100000</td>\n",
       "      <td>0.102600</td>\n",
       "      <td>0.162791</td>\n",
       "      <td>0.181818</td>\n",
       "      <td>0.187500</td>\n",
       "      <td>0.166667</td>\n",
       "      <td>0.166667</td>\n",
       "      <td>0.136364</td>\n",
       "      <td>6.000000</td>\n",
       "      <td>5.000000</td>\n",
       "      <td>2.000000</td>\n",
       "      <td>26.000000</td>\n",
       "      <td>7.000000</td>\n",
       "      <td>4.000000</td>\n",
       "      <td>7.000000</td>\n",
       "      <td>8.000000</td>\n",
       "    </tr>\n",
       "    <tr>\n",
       "      <th>75%</th>\n",
       "      <td>0.250000</td>\n",
       "      <td>0.200000</td>\n",
       "      <td>0.230800</td>\n",
       "      <td>0.200000</td>\n",
       "      <td>0.150000</td>\n",
       "      <td>0.156869</td>\n",
       "      <td>0.185185</td>\n",
       "      <td>0.206897</td>\n",
       "      <td>0.210526</td>\n",
       "      <td>0.184211</td>\n",
       "      <td>0.190476</td>\n",
       "      <td>0.162791</td>\n",
       "      <td>7.000000</td>\n",
       "      <td>7.000000</td>\n",
       "      <td>2.000000</td>\n",
       "      <td>28.000000</td>\n",
       "      <td>9.000000</td>\n",
       "      <td>7.000000</td>\n",
       "      <td>8.000000</td>\n",
       "      <td>9.000000</td>\n",
       "    </tr>\n",
       "    <tr>\n",
       "      <th>max</th>\n",
       "      <td>1.000000</td>\n",
       "      <td>0.600000</td>\n",
       "      <td>0.500000</td>\n",
       "      <td>0.500000</td>\n",
       "      <td>0.358108</td>\n",
       "      <td>0.300000</td>\n",
       "      <td>1.000000</td>\n",
       "      <td>0.909091</td>\n",
       "      <td>0.692308</td>\n",
       "      <td>0.562500</td>\n",
       "      <td>0.583333</td>\n",
       "      <td>0.470588</td>\n",
       "      <td>10.000000</td>\n",
       "      <td>10.000000</td>\n",
       "      <td>8.000000</td>\n",
       "      <td>55.000000</td>\n",
       "      <td>10.000000</td>\n",
       "      <td>10.000000</td>\n",
       "      <td>10.000000</td>\n",
       "      <td>10.000000</td>\n",
       "    </tr>\n",
       "  </tbody>\n",
       "</table>\n",
       "</div>"
      ],
      "text/plain": [
       "          pf_o_att     pf_o_sin     pf_o_int     pf_o_fun     pf_o_amb  \\\n",
       "count  8130.000000  8130.000000  8130.000000  8130.000000  8130.000000   \n",
       "mean      0.222107     0.172365     0.200896     0.172457     0.105650   \n",
       "std       0.126758     0.072189     0.070595     0.063222     0.060819   \n",
       "min       0.000000     0.000000     0.000000     0.000000     0.000000   \n",
       "25%       0.150000     0.150000     0.173100     0.150000     0.050000   \n",
       "50%       0.200000     0.180000     0.200000     0.180000     0.100000   \n",
       "75%       0.250000     0.200000     0.230800     0.200000     0.150000   \n",
       "max       1.000000     0.600000     0.500000     0.500000     0.358108   \n",
       "\n",
       "          pf_o_sha       attr_o       sinc_o      intel_o        fun_o  \\\n",
       "count  8130.000000  8130.000000  8130.000000  8130.000000  8130.000000   \n",
       "mean      0.116563     0.163884     0.187610     0.192557     0.161870   \n",
       "std       0.064700     0.060827     0.053763     0.050290     0.047725   \n",
       "min       0.000000     0.000000     0.000000     0.000000     0.000000   \n",
       "25%       0.080000     0.137931     0.166667     0.170213     0.146341   \n",
       "50%       0.102600     0.162791     0.181818     0.187500     0.166667   \n",
       "75%       0.156869     0.185185     0.206897     0.210526     0.184211   \n",
       "max       0.300000     1.000000     0.909091     0.692308     0.562500   \n",
       "\n",
       "             amb_o       shar_o       like_o       prob_o        met_o  \\\n",
       "count  8130.000000  8130.000000  8130.000000  8130.000000  8130.000000   \n",
       "mean      0.163532     0.121938     6.055375     5.096740     1.900000   \n",
       "std       0.059980     0.059964     1.963109     2.241979     0.416137   \n",
       "min       0.000000     0.000000     0.000000     0.000000     0.000000   \n",
       "25%       0.148936     0.095238     5.000000     4.000000     2.000000   \n",
       "50%       0.166667     0.136364     6.000000     5.000000     2.000000   \n",
       "75%       0.190476     0.162791     7.000000     7.000000     2.000000   \n",
       "max       0.583333     0.470588    10.000000    10.000000     8.000000   \n",
       "\n",
       "               age       sports     tvsports     exercise       dining  \n",
       "count  8048.000000  8061.000000  8061.000000  8061.000000  8061.000000  \n",
       "mean     26.349776     6.442005     4.593475     6.252822     7.781045  \n",
       "std       3.568158     2.610205     2.799167     2.414666     1.756538  \n",
       "min      18.000000     1.000000     1.000000     1.000000     1.000000  \n",
       "25%      24.000000     5.000000     2.000000     5.000000     7.000000  \n",
       "50%      26.000000     7.000000     4.000000     7.000000     8.000000  \n",
       "75%      28.000000     9.000000     7.000000     8.000000     9.000000  \n",
       "max      55.000000    10.000000    10.000000    10.000000    10.000000  "
      ]
     },
     "execution_count": 371,
     "metadata": {},
     "output_type": "execute_result"
    }
   ],
   "source": [
    "dating_data_clean[cat_num[0:20]].describe()"
   ]
  },
  {
   "cell_type": "code",
   "execution_count": 372,
   "metadata": {},
   "outputs": [
    {
     "data": {
      "text/html": [
       "<div>\n",
       "<style scoped>\n",
       "    .dataframe tbody tr th:only-of-type {\n",
       "        vertical-align: middle;\n",
       "    }\n",
       "\n",
       "    .dataframe tbody tr th {\n",
       "        vertical-align: top;\n",
       "    }\n",
       "\n",
       "    .dataframe thead th {\n",
       "        text-align: right;\n",
       "    }\n",
       "</style>\n",
       "<table border=\"1\" class=\"dataframe\">\n",
       "  <thead>\n",
       "    <tr style=\"text-align: right;\">\n",
       "      <th></th>\n",
       "      <th>museums</th>\n",
       "      <th>art</th>\n",
       "      <th>hiking</th>\n",
       "      <th>gaming</th>\n",
       "      <th>clubbing</th>\n",
       "      <th>reading</th>\n",
       "      <th>tv</th>\n",
       "      <th>theater</th>\n",
       "      <th>movies</th>\n",
       "      <th>concerts</th>\n",
       "      <th>music</th>\n",
       "      <th>shopping</th>\n",
       "      <th>yoga</th>\n",
       "      <th>exphappy</th>\n",
       "      <th>expnum</th>\n",
       "      <th>attr1_1</th>\n",
       "      <th>sinc1_1</th>\n",
       "      <th>intel1_1</th>\n",
       "      <th>fun1_1</th>\n",
       "      <th>amb1_1</th>\n",
       "    </tr>\n",
       "  </thead>\n",
       "  <tbody>\n",
       "    <tr>\n",
       "      <th>count</th>\n",
       "      <td>8061.000000</td>\n",
       "      <td>8061.000000</td>\n",
       "      <td>8061.000000</td>\n",
       "      <td>8061.000000</td>\n",
       "      <td>8061.000000</td>\n",
       "      <td>8061.000000</td>\n",
       "      <td>8061.000000</td>\n",
       "      <td>8061.000000</td>\n",
       "      <td>8061.000000</td>\n",
       "      <td>8061.000000</td>\n",
       "      <td>8061.000000</td>\n",
       "      <td>8061.000000</td>\n",
       "      <td>8061.000000</td>\n",
       "      <td>8043.000000</td>\n",
       "      <td>1779.000000</td>\n",
       "      <td>8130.000000</td>\n",
       "      <td>8130.000000</td>\n",
       "      <td>8130.000000</td>\n",
       "      <td>8130.000000</td>\n",
       "      <td>8130.000000</td>\n",
       "    </tr>\n",
       "    <tr>\n",
       "      <th>mean</th>\n",
       "      <td>6.986850</td>\n",
       "      <td>6.715668</td>\n",
       "      <td>5.748666</td>\n",
       "      <td>3.881776</td>\n",
       "      <td>5.744449</td>\n",
       "      <td>7.683166</td>\n",
       "      <td>5.305669</td>\n",
       "      <td>6.784146</td>\n",
       "      <td>7.930406</td>\n",
       "      <td>6.826076</td>\n",
       "      <td>7.848034</td>\n",
       "      <td>5.639995</td>\n",
       "      <td>4.345243</td>\n",
       "      <td>5.530150</td>\n",
       "      <td>5.596965</td>\n",
       "      <td>0.223132</td>\n",
       "      <td>0.172429</td>\n",
       "      <td>0.201211</td>\n",
       "      <td>0.172521</td>\n",
       "      <td>0.105686</td>\n",
       "    </tr>\n",
       "    <tr>\n",
       "      <th>std</th>\n",
       "      <td>2.054608</td>\n",
       "      <td>2.266771</td>\n",
       "      <td>2.574903</td>\n",
       "      <td>2.612917</td>\n",
       "      <td>2.502445</td>\n",
       "      <td>1.998474</td>\n",
       "      <td>2.532587</td>\n",
       "      <td>2.232192</td>\n",
       "      <td>1.693586</td>\n",
       "      <td>2.161362</td>\n",
       "      <td>1.787079</td>\n",
       "      <td>2.609661</td>\n",
       "      <td>2.721530</td>\n",
       "      <td>1.733609</td>\n",
       "      <td>4.776326</td>\n",
       "      <td>0.127239</td>\n",
       "      <td>0.072053</td>\n",
       "      <td>0.070227</td>\n",
       "      <td>0.062918</td>\n",
       "      <td>0.060669</td>\n",
       "    </tr>\n",
       "    <tr>\n",
       "      <th>min</th>\n",
       "      <td>0.000000</td>\n",
       "      <td>0.000000</td>\n",
       "      <td>0.000000</td>\n",
       "      <td>0.000000</td>\n",
       "      <td>0.000000</td>\n",
       "      <td>1.000000</td>\n",
       "      <td>1.000000</td>\n",
       "      <td>0.000000</td>\n",
       "      <td>0.000000</td>\n",
       "      <td>0.000000</td>\n",
       "      <td>1.000000</td>\n",
       "      <td>1.000000</td>\n",
       "      <td>0.000000</td>\n",
       "      <td>1.000000</td>\n",
       "      <td>0.000000</td>\n",
       "      <td>0.000000</td>\n",
       "      <td>0.000000</td>\n",
       "      <td>0.000000</td>\n",
       "      <td>0.000000</td>\n",
       "      <td>0.000000</td>\n",
       "    </tr>\n",
       "    <tr>\n",
       "      <th>25%</th>\n",
       "      <td>6.000000</td>\n",
       "      <td>5.000000</td>\n",
       "      <td>4.000000</td>\n",
       "      <td>2.000000</td>\n",
       "      <td>4.000000</td>\n",
       "      <td>7.000000</td>\n",
       "      <td>3.000000</td>\n",
       "      <td>5.000000</td>\n",
       "      <td>7.000000</td>\n",
       "      <td>5.000000</td>\n",
       "      <td>7.000000</td>\n",
       "      <td>4.000000</td>\n",
       "      <td>2.000000</td>\n",
       "      <td>5.000000</td>\n",
       "      <td>2.000000</td>\n",
       "      <td>0.150000</td>\n",
       "      <td>0.147803</td>\n",
       "      <td>0.173100</td>\n",
       "      <td>0.150000</td>\n",
       "      <td>0.050000</td>\n",
       "    </tr>\n",
       "    <tr>\n",
       "      <th>50%</th>\n",
       "      <td>7.000000</td>\n",
       "      <td>7.000000</td>\n",
       "      <td>6.000000</td>\n",
       "      <td>3.000000</td>\n",
       "      <td>6.000000</td>\n",
       "      <td>8.000000</td>\n",
       "      <td>6.000000</td>\n",
       "      <td>7.000000</td>\n",
       "      <td>8.000000</td>\n",
       "      <td>7.000000</td>\n",
       "      <td>8.000000</td>\n",
       "      <td>6.000000</td>\n",
       "      <td>4.000000</td>\n",
       "      <td>6.000000</td>\n",
       "      <td>4.000000</td>\n",
       "      <td>0.200000</td>\n",
       "      <td>0.180000</td>\n",
       "      <td>0.200000</td>\n",
       "      <td>0.180000</td>\n",
       "      <td>0.100000</td>\n",
       "    </tr>\n",
       "    <tr>\n",
       "      <th>75%</th>\n",
       "      <td>8.000000</td>\n",
       "      <td>8.000000</td>\n",
       "      <td>8.000000</td>\n",
       "      <td>6.000000</td>\n",
       "      <td>8.000000</td>\n",
       "      <td>9.000000</td>\n",
       "      <td>7.000000</td>\n",
       "      <td>9.000000</td>\n",
       "      <td>9.000000</td>\n",
       "      <td>8.000000</td>\n",
       "      <td>9.000000</td>\n",
       "      <td>8.000000</td>\n",
       "      <td>7.000000</td>\n",
       "      <td>7.000000</td>\n",
       "      <td>8.000000</td>\n",
       "      <td>0.250000</td>\n",
       "      <td>0.200000</td>\n",
       "      <td>0.230800</td>\n",
       "      <td>0.200000</td>\n",
       "      <td>0.150000</td>\n",
       "    </tr>\n",
       "    <tr>\n",
       "      <th>max</th>\n",
       "      <td>10.000000</td>\n",
       "      <td>10.000000</td>\n",
       "      <td>10.000000</td>\n",
       "      <td>14.000000</td>\n",
       "      <td>10.000000</td>\n",
       "      <td>13.000000</td>\n",
       "      <td>10.000000</td>\n",
       "      <td>10.000000</td>\n",
       "      <td>10.000000</td>\n",
       "      <td>10.000000</td>\n",
       "      <td>10.000000</td>\n",
       "      <td>10.000000</td>\n",
       "      <td>10.000000</td>\n",
       "      <td>10.000000</td>\n",
       "      <td>20.000000</td>\n",
       "      <td>1.000000</td>\n",
       "      <td>0.600000</td>\n",
       "      <td>0.500000</td>\n",
       "      <td>0.500000</td>\n",
       "      <td>0.358108</td>\n",
       "    </tr>\n",
       "  </tbody>\n",
       "</table>\n",
       "</div>"
      ],
      "text/plain": [
       "           museums          art       hiking       gaming     clubbing  \\\n",
       "count  8061.000000  8061.000000  8061.000000  8061.000000  8061.000000   \n",
       "mean      6.986850     6.715668     5.748666     3.881776     5.744449   \n",
       "std       2.054608     2.266771     2.574903     2.612917     2.502445   \n",
       "min       0.000000     0.000000     0.000000     0.000000     0.000000   \n",
       "25%       6.000000     5.000000     4.000000     2.000000     4.000000   \n",
       "50%       7.000000     7.000000     6.000000     3.000000     6.000000   \n",
       "75%       8.000000     8.000000     8.000000     6.000000     8.000000   \n",
       "max      10.000000    10.000000    10.000000    14.000000    10.000000   \n",
       "\n",
       "           reading           tv      theater       movies     concerts  \\\n",
       "count  8061.000000  8061.000000  8061.000000  8061.000000  8061.000000   \n",
       "mean      7.683166     5.305669     6.784146     7.930406     6.826076   \n",
       "std       1.998474     2.532587     2.232192     1.693586     2.161362   \n",
       "min       1.000000     1.000000     0.000000     0.000000     0.000000   \n",
       "25%       7.000000     3.000000     5.000000     7.000000     5.000000   \n",
       "50%       8.000000     6.000000     7.000000     8.000000     7.000000   \n",
       "75%       9.000000     7.000000     9.000000     9.000000     8.000000   \n",
       "max      13.000000    10.000000    10.000000    10.000000    10.000000   \n",
       "\n",
       "             music     shopping         yoga     exphappy       expnum  \\\n",
       "count  8061.000000  8061.000000  8061.000000  8043.000000  1779.000000   \n",
       "mean      7.848034     5.639995     4.345243     5.530150     5.596965   \n",
       "std       1.787079     2.609661     2.721530     1.733609     4.776326   \n",
       "min       1.000000     1.000000     0.000000     1.000000     0.000000   \n",
       "25%       7.000000     4.000000     2.000000     5.000000     2.000000   \n",
       "50%       8.000000     6.000000     4.000000     6.000000     4.000000   \n",
       "75%       9.000000     8.000000     7.000000     7.000000     8.000000   \n",
       "max      10.000000    10.000000    10.000000    10.000000    20.000000   \n",
       "\n",
       "           attr1_1      sinc1_1     intel1_1       fun1_1       amb1_1  \n",
       "count  8130.000000  8130.000000  8130.000000  8130.000000  8130.000000  \n",
       "mean      0.223132     0.172429     0.201211     0.172521     0.105686  \n",
       "std       0.127239     0.072053     0.070227     0.062918     0.060669  \n",
       "min       0.000000     0.000000     0.000000     0.000000     0.000000  \n",
       "25%       0.150000     0.147803     0.173100     0.150000     0.050000  \n",
       "50%       0.200000     0.180000     0.200000     0.180000     0.100000  \n",
       "75%       0.250000     0.200000     0.230800     0.200000     0.150000  \n",
       "max       1.000000     0.600000     0.500000     0.500000     0.358108  "
      ]
     },
     "execution_count": 372,
     "metadata": {},
     "output_type": "execute_result"
    }
   ],
   "source": [
    "dating_data_clean[cat_num[20:40]].describe()"
   ]
  },
  {
   "cell_type": "code",
   "execution_count": 373,
   "metadata": {},
   "outputs": [
    {
     "data": {
      "text/html": [
       "<div>\n",
       "<style scoped>\n",
       "    .dataframe tbody tr th:only-of-type {\n",
       "        vertical-align: middle;\n",
       "    }\n",
       "\n",
       "    .dataframe tbody tr th {\n",
       "        vertical-align: top;\n",
       "    }\n",
       "\n",
       "    .dataframe thead th {\n",
       "        text-align: right;\n",
       "    }\n",
       "</style>\n",
       "<table border=\"1\" class=\"dataframe\">\n",
       "  <thead>\n",
       "    <tr style=\"text-align: right;\">\n",
       "      <th></th>\n",
       "      <th>shar1_1</th>\n",
       "      <th>attr3_1</th>\n",
       "      <th>sinc3_1</th>\n",
       "      <th>fun3_1</th>\n",
       "      <th>intel3_1</th>\n",
       "      <th>amb3_1</th>\n",
       "      <th>attr</th>\n",
       "      <th>sinc</th>\n",
       "      <th>intel</th>\n",
       "      <th>fun</th>\n",
       "      <th>amb</th>\n",
       "      <th>shar</th>\n",
       "      <th>like</th>\n",
       "      <th>prob</th>\n",
       "      <th>match_es</th>\n",
       "      <th>attr3_s</th>\n",
       "      <th>sinc3_s</th>\n",
       "      <th>intel3_s</th>\n",
       "      <th>fun3_s</th>\n",
       "      <th>amb3_s</th>\n",
       "    </tr>\n",
       "  </thead>\n",
       "  <tbody>\n",
       "    <tr>\n",
       "      <th>count</th>\n",
       "      <td>8130.000000</td>\n",
       "      <td>8130.000000</td>\n",
       "      <td>8130.000000</td>\n",
       "      <td>8130.000000</td>\n",
       "      <td>8130.000000</td>\n",
       "      <td>8130.000000</td>\n",
       "      <td>8130.000000</td>\n",
       "      <td>8130.000000</td>\n",
       "      <td>8130.000000</td>\n",
       "      <td>8130.000000</td>\n",
       "      <td>8130.000000</td>\n",
       "      <td>8130.000000</td>\n",
       "      <td>8130.000000</td>\n",
       "      <td>8046.000000</td>\n",
       "      <td>7008.000000</td>\n",
       "      <td>8130.000000</td>\n",
       "      <td>8130.000000</td>\n",
       "      <td>8130.000000</td>\n",
       "      <td>8130.000000</td>\n",
       "      <td>8130.000000</td>\n",
       "    </tr>\n",
       "    <tr>\n",
       "      <th>mean</th>\n",
       "      <td>0.116534</td>\n",
       "      <td>0.178799</td>\n",
       "      <td>0.210763</td>\n",
       "      <td>0.194188</td>\n",
       "      <td>0.213938</td>\n",
       "      <td>0.190626</td>\n",
       "      <td>0.164646</td>\n",
       "      <td>0.189221</td>\n",
       "      <td>0.193930</td>\n",
       "      <td>0.163367</td>\n",
       "      <td>0.164860</td>\n",
       "      <td>0.123238</td>\n",
       "      <td>6.140123</td>\n",
       "      <td>5.213087</td>\n",
       "      <td>3.214369</td>\n",
       "      <td>0.089584</td>\n",
       "      <td>0.100779</td>\n",
       "      <td>0.103337</td>\n",
       "      <td>0.095175</td>\n",
       "      <td>0.094149</td>\n",
       "    </tr>\n",
       "    <tr>\n",
       "      <th>std</th>\n",
       "      <td>0.064703</td>\n",
       "      <td>0.033610</td>\n",
       "      <td>0.041102</td>\n",
       "      <td>0.037246</td>\n",
       "      <td>0.034974</td>\n",
       "      <td>0.041755</td>\n",
       "      <td>0.057566</td>\n",
       "      <td>0.050973</td>\n",
       "      <td>0.046494</td>\n",
       "      <td>0.044752</td>\n",
       "      <td>0.057789</td>\n",
       "      <td>0.058725</td>\n",
       "      <td>1.832103</td>\n",
       "      <td>2.124670</td>\n",
       "      <td>2.442436</td>\n",
       "      <td>0.094769</td>\n",
       "      <td>0.106773</td>\n",
       "      <td>0.108511</td>\n",
       "      <td>0.100783</td>\n",
       "      <td>0.101063</td>\n",
       "    </tr>\n",
       "    <tr>\n",
       "      <th>min</th>\n",
       "      <td>0.000000</td>\n",
       "      <td>0.000000</td>\n",
       "      <td>0.000000</td>\n",
       "      <td>0.000000</td>\n",
       "      <td>0.000000</td>\n",
       "      <td>0.000000</td>\n",
       "      <td>0.000000</td>\n",
       "      <td>0.000000</td>\n",
       "      <td>0.000000</td>\n",
       "      <td>0.000000</td>\n",
       "      <td>0.000000</td>\n",
       "      <td>0.000000</td>\n",
       "      <td>1.000000</td>\n",
       "      <td>0.000000</td>\n",
       "      <td>0.000000</td>\n",
       "      <td>0.000000</td>\n",
       "      <td>0.000000</td>\n",
       "      <td>0.000000</td>\n",
       "      <td>0.000000</td>\n",
       "      <td>0.000000</td>\n",
       "    </tr>\n",
       "    <tr>\n",
       "      <th>25%</th>\n",
       "      <td>0.080000</td>\n",
       "      <td>0.166667</td>\n",
       "      <td>0.195652</td>\n",
       "      <td>0.181818</td>\n",
       "      <td>0.200000</td>\n",
       "      <td>0.175000</td>\n",
       "      <td>0.138889</td>\n",
       "      <td>0.166667</td>\n",
       "      <td>0.170732</td>\n",
       "      <td>0.147059</td>\n",
       "      <td>0.148936</td>\n",
       "      <td>0.097561</td>\n",
       "      <td>5.000000</td>\n",
       "      <td>4.000000</td>\n",
       "      <td>2.000000</td>\n",
       "      <td>0.000000</td>\n",
       "      <td>0.000000</td>\n",
       "      <td>0.000000</td>\n",
       "      <td>0.000000</td>\n",
       "      <td>0.000000</td>\n",
       "    </tr>\n",
       "    <tr>\n",
       "      <th>50%</th>\n",
       "      <td>0.102600</td>\n",
       "      <td>0.184211</td>\n",
       "      <td>0.214286</td>\n",
       "      <td>0.200000</td>\n",
       "      <td>0.210526</td>\n",
       "      <td>0.200000</td>\n",
       "      <td>0.162791</td>\n",
       "      <td>0.181818</td>\n",
       "      <td>0.187500</td>\n",
       "      <td>0.166667</td>\n",
       "      <td>0.166667</td>\n",
       "      <td>0.137931</td>\n",
       "      <td>6.000000</td>\n",
       "      <td>5.000000</td>\n",
       "      <td>3.000000</td>\n",
       "      <td>0.000000</td>\n",
       "      <td>0.000000</td>\n",
       "      <td>0.000000</td>\n",
       "      <td>0.000000</td>\n",
       "      <td>0.000000</td>\n",
       "    </tr>\n",
       "    <tr>\n",
       "      <th>75%</th>\n",
       "      <td>0.156869</td>\n",
       "      <td>0.200000</td>\n",
       "      <td>0.232558</td>\n",
       "      <td>0.214286</td>\n",
       "      <td>0.228571</td>\n",
       "      <td>0.214286</td>\n",
       "      <td>0.185185</td>\n",
       "      <td>0.206897</td>\n",
       "      <td>0.210526</td>\n",
       "      <td>0.184211</td>\n",
       "      <td>0.190476</td>\n",
       "      <td>0.162791</td>\n",
       "      <td>7.000000</td>\n",
       "      <td>7.000000</td>\n",
       "      <td>4.000000</td>\n",
       "      <td>0.186047</td>\n",
       "      <td>0.210526</td>\n",
       "      <td>0.208333</td>\n",
       "      <td>0.200000</td>\n",
       "      <td>0.200000</td>\n",
       "    </tr>\n",
       "    <tr>\n",
       "      <th>max</th>\n",
       "      <td>0.300000</td>\n",
       "      <td>0.264706</td>\n",
       "      <td>0.347826</td>\n",
       "      <td>0.303030</td>\n",
       "      <td>0.360000</td>\n",
       "      <td>0.285714</td>\n",
       "      <td>1.000000</td>\n",
       "      <td>0.909091</td>\n",
       "      <td>0.692308</td>\n",
       "      <td>0.562500</td>\n",
       "      <td>0.500000</td>\n",
       "      <td>0.470588</td>\n",
       "      <td>10.000000</td>\n",
       "      <td>10.000000</td>\n",
       "      <td>18.000000</td>\n",
       "      <td>0.281250</td>\n",
       "      <td>0.307692</td>\n",
       "      <td>0.333333</td>\n",
       "      <td>0.290323</td>\n",
       "      <td>0.333333</td>\n",
       "    </tr>\n",
       "  </tbody>\n",
       "</table>\n",
       "</div>"
      ],
      "text/plain": [
       "           shar1_1      attr3_1      sinc3_1       fun3_1     intel3_1  \\\n",
       "count  8130.000000  8130.000000  8130.000000  8130.000000  8130.000000   \n",
       "mean      0.116534     0.178799     0.210763     0.194188     0.213938   \n",
       "std       0.064703     0.033610     0.041102     0.037246     0.034974   \n",
       "min       0.000000     0.000000     0.000000     0.000000     0.000000   \n",
       "25%       0.080000     0.166667     0.195652     0.181818     0.200000   \n",
       "50%       0.102600     0.184211     0.214286     0.200000     0.210526   \n",
       "75%       0.156869     0.200000     0.232558     0.214286     0.228571   \n",
       "max       0.300000     0.264706     0.347826     0.303030     0.360000   \n",
       "\n",
       "            amb3_1         attr         sinc        intel          fun  \\\n",
       "count  8130.000000  8130.000000  8130.000000  8130.000000  8130.000000   \n",
       "mean      0.190626     0.164646     0.189221     0.193930     0.163367   \n",
       "std       0.041755     0.057566     0.050973     0.046494     0.044752   \n",
       "min       0.000000     0.000000     0.000000     0.000000     0.000000   \n",
       "25%       0.175000     0.138889     0.166667     0.170732     0.147059   \n",
       "50%       0.200000     0.162791     0.181818     0.187500     0.166667   \n",
       "75%       0.214286     0.185185     0.206897     0.210526     0.184211   \n",
       "max       0.285714     1.000000     0.909091     0.692308     0.562500   \n",
       "\n",
       "               amb         shar         like         prob     match_es  \\\n",
       "count  8130.000000  8130.000000  8130.000000  8046.000000  7008.000000   \n",
       "mean      0.164860     0.123238     6.140123     5.213087     3.214369   \n",
       "std       0.057789     0.058725     1.832103     2.124670     2.442436   \n",
       "min       0.000000     0.000000     1.000000     0.000000     0.000000   \n",
       "25%       0.148936     0.097561     5.000000     4.000000     2.000000   \n",
       "50%       0.166667     0.137931     6.000000     5.000000     3.000000   \n",
       "75%       0.190476     0.162791     7.000000     7.000000     4.000000   \n",
       "max       0.500000     0.470588    10.000000    10.000000    18.000000   \n",
       "\n",
       "           attr3_s      sinc3_s     intel3_s       fun3_s       amb3_s  \n",
       "count  8130.000000  8130.000000  8130.000000  8130.000000  8130.000000  \n",
       "mean      0.089584     0.100779     0.103337     0.095175     0.094149  \n",
       "std       0.094769     0.106773     0.108511     0.100783     0.101063  \n",
       "min       0.000000     0.000000     0.000000     0.000000     0.000000  \n",
       "25%       0.000000     0.000000     0.000000     0.000000     0.000000  \n",
       "50%       0.000000     0.000000     0.000000     0.000000     0.000000  \n",
       "75%       0.186047     0.210526     0.208333     0.200000     0.200000  \n",
       "max       0.281250     0.307692     0.333333     0.290323     0.333333  "
      ]
     },
     "execution_count": 373,
     "metadata": {},
     "output_type": "execute_result"
    }
   ],
   "source": [
    "dating_data_clean[cat_num[40:]].describe()"
   ]
  },
  {
   "cell_type": "code",
   "execution_count": 488,
   "metadata": {},
   "outputs": [
    {
     "data": {
      "text/html": [
       "<div>\n",
       "<style scoped>\n",
       "    .dataframe tbody tr th:only-of-type {\n",
       "        vertical-align: middle;\n",
       "    }\n",
       "\n",
       "    .dataframe tbody tr th {\n",
       "        vertical-align: top;\n",
       "    }\n",
       "\n",
       "    .dataframe thead th {\n",
       "        text-align: right;\n",
       "    }\n",
       "</style>\n",
       "<table border=\"1\" class=\"dataframe\">\n",
       "  <thead>\n",
       "    <tr style=\"text-align: right;\">\n",
       "      <th></th>\n",
       "      <th>attr</th>\n",
       "      <th>sinc</th>\n",
       "      <th>intel</th>\n",
       "      <th>fun</th>\n",
       "      <th>amb</th>\n",
       "    </tr>\n",
       "  </thead>\n",
       "  <tbody>\n",
       "    <tr>\n",
       "      <th>count</th>\n",
       "      <td>4042.000000</td>\n",
       "      <td>4042.000000</td>\n",
       "      <td>4042.000000</td>\n",
       "      <td>4042.000000</td>\n",
       "      <td>4042.000000</td>\n",
       "    </tr>\n",
       "    <tr>\n",
       "      <th>mean</th>\n",
       "      <td>0.158134</td>\n",
       "      <td>0.189935</td>\n",
       "      <td>0.198478</td>\n",
       "      <td>0.161111</td>\n",
       "      <td>0.170878</td>\n",
       "    </tr>\n",
       "    <tr>\n",
       "      <th>std</th>\n",
       "      <td>0.053920</td>\n",
       "      <td>0.054617</td>\n",
       "      <td>0.048718</td>\n",
       "      <td>0.046401</td>\n",
       "      <td>0.061353</td>\n",
       "    </tr>\n",
       "    <tr>\n",
       "      <th>min</th>\n",
       "      <td>0.000000</td>\n",
       "      <td>0.000000</td>\n",
       "      <td>0.000000</td>\n",
       "      <td>0.000000</td>\n",
       "      <td>0.000000</td>\n",
       "    </tr>\n",
       "    <tr>\n",
       "      <th>25%</th>\n",
       "      <td>0.133333</td>\n",
       "      <td>0.166667</td>\n",
       "      <td>0.173913</td>\n",
       "      <td>0.142857</td>\n",
       "      <td>0.153846</td>\n",
       "    </tr>\n",
       "    <tr>\n",
       "      <th>50%</th>\n",
       "      <td>0.157895</td>\n",
       "      <td>0.181818</td>\n",
       "      <td>0.190476</td>\n",
       "      <td>0.166667</td>\n",
       "      <td>0.173913</td>\n",
       "    </tr>\n",
       "    <tr>\n",
       "      <th>75%</th>\n",
       "      <td>0.179487</td>\n",
       "      <td>0.208333</td>\n",
       "      <td>0.216216</td>\n",
       "      <td>0.183673</td>\n",
       "      <td>0.200000</td>\n",
       "    </tr>\n",
       "    <tr>\n",
       "      <th>max</th>\n",
       "      <td>1.000000</td>\n",
       "      <td>0.909091</td>\n",
       "      <td>0.692308</td>\n",
       "      <td>0.421053</td>\n",
       "      <td>0.500000</td>\n",
       "    </tr>\n",
       "  </tbody>\n",
       "</table>\n",
       "</div>"
      ],
      "text/plain": [
       "              attr         sinc        intel          fun          amb\n",
       "count  4042.000000  4042.000000  4042.000000  4042.000000  4042.000000\n",
       "mean      0.158134     0.189935     0.198478     0.161111     0.170878\n",
       "std       0.053920     0.054617     0.048718     0.046401     0.061353\n",
       "min       0.000000     0.000000     0.000000     0.000000     0.000000\n",
       "25%       0.133333     0.166667     0.173913     0.142857     0.153846\n",
       "50%       0.157895     0.181818     0.190476     0.166667     0.173913\n",
       "75%       0.179487     0.208333     0.216216     0.183673     0.200000\n",
       "max       1.000000     0.909091     0.692308     0.421053     0.500000"
      ]
     },
     "execution_count": 488,
     "metadata": {},
     "output_type": "execute_result"
    }
   ],
   "source": [
    "# Getting summary statistics for ratings the night of event (partner evaluation) for women:\n",
    "\n",
    "test_gender_w = dating_data_clean.gender == 0 \n",
    "\n",
    "women_summary = dating_data_clean.loc[test_gender_w,'attr':'amb'].describe()\n",
    "women_summary\n",
    "\n"
   ]
  },
  {
   "cell_type": "code",
   "execution_count": 489,
   "metadata": {},
   "outputs": [
    {
     "data": {
      "text/html": [
       "<div>\n",
       "<style scoped>\n",
       "    .dataframe tbody tr th:only-of-type {\n",
       "        vertical-align: middle;\n",
       "    }\n",
       "\n",
       "    .dataframe tbody tr th {\n",
       "        vertical-align: top;\n",
       "    }\n",
       "\n",
       "    .dataframe thead th {\n",
       "        text-align: right;\n",
       "    }\n",
       "</style>\n",
       "<table border=\"1\" class=\"dataframe\">\n",
       "  <thead>\n",
       "    <tr style=\"text-align: right;\">\n",
       "      <th></th>\n",
       "      <th>attr</th>\n",
       "      <th>sinc</th>\n",
       "      <th>intel</th>\n",
       "      <th>fun</th>\n",
       "      <th>amb</th>\n",
       "    </tr>\n",
       "  </thead>\n",
       "  <tbody>\n",
       "    <tr>\n",
       "      <th>count</th>\n",
       "      <td>4088.000000</td>\n",
       "      <td>4088.000000</td>\n",
       "      <td>4088.000000</td>\n",
       "      <td>4088.000000</td>\n",
       "      <td>4088.000000</td>\n",
       "    </tr>\n",
       "    <tr>\n",
       "      <th>mean</th>\n",
       "      <td>0.171085</td>\n",
       "      <td>0.188514</td>\n",
       "      <td>0.189433</td>\n",
       "      <td>0.165598</td>\n",
       "      <td>0.158910</td>\n",
       "    </tr>\n",
       "    <tr>\n",
       "      <th>std</th>\n",
       "      <td>0.060274</td>\n",
       "      <td>0.047091</td>\n",
       "      <td>0.043728</td>\n",
       "      <td>0.042950</td>\n",
       "      <td>0.053378</td>\n",
       "    </tr>\n",
       "    <tr>\n",
       "      <th>min</th>\n",
       "      <td>0.000000</td>\n",
       "      <td>0.000000</td>\n",
       "      <td>0.000000</td>\n",
       "      <td>0.000000</td>\n",
       "      <td>0.000000</td>\n",
       "    </tr>\n",
       "    <tr>\n",
       "      <th>25%</th>\n",
       "      <td>0.145833</td>\n",
       "      <td>0.166667</td>\n",
       "      <td>0.166667</td>\n",
       "      <td>0.150000</td>\n",
       "      <td>0.145833</td>\n",
       "    </tr>\n",
       "    <tr>\n",
       "      <th>50%</th>\n",
       "      <td>0.166667</td>\n",
       "      <td>0.182746</td>\n",
       "      <td>0.184211</td>\n",
       "      <td>0.166667</td>\n",
       "      <td>0.166667</td>\n",
       "    </tr>\n",
       "    <tr>\n",
       "      <th>75%</th>\n",
       "      <td>0.190476</td>\n",
       "      <td>0.205882</td>\n",
       "      <td>0.205882</td>\n",
       "      <td>0.184211</td>\n",
       "      <td>0.183673</td>\n",
       "    </tr>\n",
       "    <tr>\n",
       "      <th>max</th>\n",
       "      <td>1.000000</td>\n",
       "      <td>0.666667</td>\n",
       "      <td>0.538462</td>\n",
       "      <td>0.562500</td>\n",
       "      <td>0.500000</td>\n",
       "    </tr>\n",
       "  </tbody>\n",
       "</table>\n",
       "</div>"
      ],
      "text/plain": [
       "              attr         sinc        intel          fun          amb\n",
       "count  4088.000000  4088.000000  4088.000000  4088.000000  4088.000000\n",
       "mean      0.171085     0.188514     0.189433     0.165598     0.158910\n",
       "std       0.060274     0.047091     0.043728     0.042950     0.053378\n",
       "min       0.000000     0.000000     0.000000     0.000000     0.000000\n",
       "25%       0.145833     0.166667     0.166667     0.150000     0.145833\n",
       "50%       0.166667     0.182746     0.184211     0.166667     0.166667\n",
       "75%       0.190476     0.205882     0.205882     0.184211     0.183673\n",
       "max       1.000000     0.666667     0.538462     0.562500     0.500000"
      ]
     },
     "execution_count": 489,
     "metadata": {},
     "output_type": "execute_result"
    }
   ],
   "source": [
    "# Getting summary statistics for ratings the night of event (partner evaluation) for men:\n",
    "\n",
    "test_gender_m = dating_data_clean.gender == 1 \n",
    "\n",
    "men_summary = dating_data_clean.loc[test_gender_m,'attr':'amb'].describe()\n",
    "men_summary"
   ]
  },
  {
   "cell_type": "markdown",
   "metadata": {},
   "source": [
    "## Correlations"
   ]
  },
  {
   "cell_type": "markdown",
   "metadata": {},
   "source": [
    "**Correlation between ratings the night of event (partner evaluation) and like**"
   ]
  },
  {
   "cell_type": "code",
   "execution_count": 376,
   "metadata": {},
   "outputs": [
    {
     "data": {
      "text/plain": [
       "0.13199455087436823"
      ]
     },
     "execution_count": 376,
     "metadata": {},
     "output_type": "execute_result"
    }
   ],
   "source": [
    "# Find correlation between ratings at event and like scale:\n",
    "import numpy as np\n",
    "\n",
    "def pearson_r(x, y):\n",
    "    \"\"\"Compute Pearson correlation coefficient between two arrays.\"\"\"\n",
    "    # Compute correlation matrix: corr_mat\n",
    "    corr_mat = np.corrcoef(x, y)\n",
    "\n",
    "    # Return entry [0,1]\n",
    "    return corr_mat[0,1]\n",
    "\n",
    "# Attribute: attractiveness\n",
    "\n",
    "r_attr_o = pearson_r(dating_data_clean['attr'], dating_data_clean['like'])\n",
    "r_attr_o"
   ]
  },
  {
   "cell_type": "code",
   "execution_count": 377,
   "metadata": {},
   "outputs": [
    {
     "data": {
      "text/plain": [
       "-0.15900089758675978"
      ]
     },
     "execution_count": 377,
     "metadata": {},
     "output_type": "execute_result"
    }
   ],
   "source": [
    "# Attribute: sincerity\n",
    "r_sinc_o = pearson_r(dating_data_clean['sinc'], dating_data_clean['like'])\n",
    "r_sinc_o"
   ]
  },
  {
   "cell_type": "code",
   "execution_count": 378,
   "metadata": {},
   "outputs": [
    {
     "data": {
      "text/plain": [
       "-0.25980705495151329"
      ]
     },
     "execution_count": 378,
     "metadata": {},
     "output_type": "execute_result"
    }
   ],
   "source": [
    "# Attribute: intelligence\n",
    "r_intel_o = pearson_r(dating_data_clean['intel'], dating_data_clean['like'])\n",
    "r_intel_o"
   ]
  },
  {
   "cell_type": "code",
   "execution_count": 379,
   "metadata": {},
   "outputs": [
    {
     "data": {
      "text/plain": [
       "0.19749322251579374"
      ]
     },
     "execution_count": 379,
     "metadata": {},
     "output_type": "execute_result"
    }
   ],
   "source": [
    "# Attribute: fun\n",
    "r_fun_o = pearson_r(dating_data_clean['fun'], dating_data_clean['like'])\n",
    "r_fun_o"
   ]
  },
  {
   "cell_type": "code",
   "execution_count": 380,
   "metadata": {},
   "outputs": [
    {
     "data": {
      "text/plain": [
       "-0.173630501943597"
      ]
     },
     "execution_count": 380,
     "metadata": {},
     "output_type": "execute_result"
    }
   ],
   "source": [
    "# Attribute: ambition\n",
    "r_amb_o = pearson_r(dating_data_clean['amb'], dating_data_clean['like'])\n",
    "r_amb_o"
   ]
  },
  {
   "cell_type": "code",
   "execution_count": 381,
   "metadata": {},
   "outputs": [
    {
     "data": {
      "text/plain": [
       "0.23220970513519784"
      ]
     },
     "execution_count": 381,
     "metadata": {},
     "output_type": "execute_result"
    }
   ],
   "source": [
    "# Attribute: share interests\n",
    "r_shar_o = pearson_r(dating_data_clean['shar'], dating_data_clean['like'])\n",
    "r_shar_o"
   ]
  },
  {
   "cell_type": "markdown",
   "metadata": {},
   "source": [
    "Ratings and Like are float, but the granularity of ratings are much higher than in Like (as seen below using attractiveness as an example). "
   ]
  },
  {
   "cell_type": "code",
   "execution_count": 492,
   "metadata": {},
   "outputs": [
    {
     "data": {
      "text/plain": [
       "array([  7. ,   6. ,   8. ,   5. ,   9. ,   4. ,  10. ,   2. ,   1. ,\n",
       "         3. ,   6.5,   7.5,   4.5,   8.5,   9.5,   5.5,   9.7])"
      ]
     },
     "execution_count": 492,
     "metadata": {},
     "output_type": "execute_result"
    }
   ],
   "source": [
    "dating_data_clean['like'].unique()"
   ]
  },
  {
   "cell_type": "code",
   "execution_count": 493,
   "metadata": {},
   "outputs": [
    {
     "data": {
      "text/plain": [
       "array([ 0.15      ,  0.17073171,  0.11904762,  0.16666667,  0.13513513,\n",
       "        0.11764706,  0.18918919,  0.10810811,  0.15217391,  0.11627907,\n",
       "        0.15151515,  0.2       ,  0.14285714,  0.13333333,  0.23529412,\n",
       "        0.1627907 ,  0.12820513,  0.17948718,  0.14      ,  0.18367347,\n",
       "        0.14583333,  0.1875    ,  0.15254237,  0.1509434 ,  0.16      ,\n",
       "        0.17021277,  0.09523809,  0.1       ,  0.15384615,  0.12244898,\n",
       "        0.11363636,  0.17307692,  0.18518519,  0.22857143,  0.19512195,\n",
       "        0.16216216,  0.13157895,  0.21428571,  0.14634146,  0.13793103,\n",
       "        0.20512821,  0.16129032,  0.15789474,  0.15909091,  0.11111111,\n",
       "        0.075     ,  0.11428571,  0.125     ,  0.19047619,  0.13888889,\n",
       "        0.18181818,  0.12195122,  0.22222222,  0.15555556,  0.20408163,\n",
       "        0.13953488,  0.19230769,  0.13636364,  0.18421053,  0.21052632,\n",
       "        0.175     ,  0.13043478,  0.15686274,  0.14893617,  0.17391304,\n",
       "        0.19148936,  0.        ,  0.08333333,  0.2173913 ,  0.21875   ,\n",
       "        0.15625   ,  0.24137931,  0.17142857,  0.10638298,  0.16981132,\n",
       "        0.07142857,  0.19444444,  0.25925926,  0.14705882,  0.14814815,\n",
       "        0.23333333,  0.30434783,  0.28571429,  0.22580645,  0.225     ,\n",
       "        0.3       ,  0.27272727,  0.25806452,  0.33333333,  0.06976744,\n",
       "        0.17647059,  0.09090909,  0.08      ,  0.08823529,  0.10714286,\n",
       "        0.07407407,  0.07692308,  0.05      ,  0.03703704,  0.12      ,\n",
       "        0.04545454,  0.05555556,  0.19354839,  0.17857143,  0.09375   ,\n",
       "        0.10169491,  0.12698413,  0.12121212,  0.24242424,  0.32      ,\n",
       "        0.17777778,  0.24324324,  0.09677419,  0.18604651,  0.20833333,\n",
       "        0.10526316,  0.16326531,  0.21212121,  0.21621622,  0.12903226,\n",
       "        0.21951219,  0.26315789,  0.12765957,  0.13207547,  0.0625    ,\n",
       "        0.08695652,  0.23076923,  0.09302326,  0.20930233,  0.06896552,\n",
       "        0.04166667,  0.25641026,  0.05882353,  0.07894737,  0.10869565,\n",
       "        0.17241379,  0.20689655,  0.25      ,  0.19565217,  0.18867924,\n",
       "        0.28125   ,  0.20588235,  0.23809524,  0.27777778,  0.4375    ,\n",
       "        1.        ,  0.38095238,  0.28      ,  0.11538461,  0.27586207,\n",
       "        0.05405405,  0.02380952,  0.18      ,  0.16363636,  0.14545454,\n",
       "        0.09615385,  0.06818182,  0.07317073,  0.08510638,  0.19607843,\n",
       "        0.16949153,  0.1025641 ,  0.26470588,  0.37037037,  0.16071429,\n",
       "        0.08108108,  0.06666667,  0.06451613,  0.03225807,  0.26086957,\n",
       "        0.36      ,  0.06060606,  0.29166667,  0.04347826,  0.08571429,\n",
       "        0.20454545,  0.09756098,  0.1372549 ,  0.10416667,  0.13461539,\n",
       "        0.12727273,  0.24      ,  0.2962963 ,  0.22727273,  0.10344828,\n",
       "        0.05128205,  0.02941176,  0.03571429,  0.06521739,  0.08163265,\n",
       "        0.11320755,  0.06122449,  0.04081633,  0.1754386 ,  0.26923077,\n",
       "        0.26666667,  0.38888889,  0.30769231,  0.2368421 ,  0.18571429,\n",
       "        0.16901409,  0.17204301,  0.1682243 ,  0.14150943,  0.21276596,\n",
       "        0.41666667,  0.39130435,  0.29032258,  0.05263158,  0.44444444,\n",
       "        0.35294118,  0.18055556,  0.14942529,  0.05714286,  0.10204082,\n",
       "        0.36363636,  0.23255814,  0.025     ,  0.02777778,  0.02272727,\n",
       "        0.04761905,  0.5       ,  0.66666667,  0.15517241,  0.04444444,\n",
       "        0.04255319,  0.47368421,  0.375     ,  0.40909091,  0.09433962,\n",
       "        0.4       ,  0.03333333,  0.25714286,  0.18095238,  0.03125   ,\n",
       "        0.04878049,  0.31818182,  0.35      ,  0.29411765,  0.46666667,\n",
       "        0.46153846,  0.55555556,  0.34782609,  0.36842105,  0.06      ,\n",
       "        0.14035088,  0.53846154,  0.17441861,  0.15730337,  0.15476191,\n",
       "        0.03030303,  0.02857143,  0.03846154,  0.07843137,  0.04      ,\n",
       "        0.32142857,  0.19387755,  0.19449902,  0.24390244,  0.61538461,\n",
       "        0.3030303 ,  0.12962963,  0.11214953,  0.20430107,  0.31578947,\n",
       "        0.27027027,  0.34210526,  0.6       ,  0.10909091,  0.12280702,\n",
       "        0.16091954,  0.08888889,  0.11290323,  0.09259259,  0.06382979,\n",
       "        0.31034483,  0.02702703,  0.02564103,  0.03448276,  0.32258064])"
      ]
     },
     "execution_count": 493,
     "metadata": {},
     "output_type": "execute_result"
    }
   ],
   "source": [
    "dating_data_clean['attr'].unique()"
   ]
  },
  {
   "cell_type": "code",
   "execution_count": 494,
   "metadata": {},
   "outputs": [
    {
     "data": {
      "text/plain": [
       "<matplotlib.collections.PathCollection at 0x1a18b63e48>"
      ]
     },
     "execution_count": 494,
     "metadata": {},
     "output_type": "execute_result"
    },
    {
     "data": {
      "image/png": "[encoded data removed]",
      "text/plain": [
       "<matplotlib.figure.Figure at 0x1a1896b9e8>"
      ]
     },
     "metadata": {},
     "output_type": "display_data"
    }
   ],
   "source": [
    "plt.scatter(dating_data_clean['attr'], dating_data_clean['like'])"
   ]
  },
  {
   "cell_type": "markdown",
   "metadata": {},
   "source": [
    "This chart doesn't allow a good correlation visualization. In order to allow a better comparison and visualization between ratings and like, the median of rating in each like data point was calculated."
   ]
  },
  {
   "cell_type": "code",
   "execution_count": 385,
   "metadata": {},
   "outputs": [
    {
     "data": {
      "image/png": "[encoded data removed]",
      "text/plain": [
       "<matplotlib.figure.Figure at 0x1a0d9b73c8>"
      ]
     },
     "metadata": {},
     "output_type": "display_data"
    }
   ],
   "source": [
    "# grouping ratings by like to improve visualization:\n",
    "\n",
    "by_like = dating_data_clean.groupby('like')\n",
    "\n",
    "# Aggregate each attribute column of by_like by median\n",
    "count_by_like_attr = by_like['attr'].median()\n",
    "count_by_like_sinc = by_like['sinc'].median()\n",
    "count_by_like_fun = by_like['fun'].median()\n",
    "count_by_like_intel = by_like['intel'].median()\n",
    "count_by_like_amb = by_like['amb'].median()\n",
    "count_by_like_shar = by_like['shar'].median()\n",
    "\n",
    "fig = plt.figure(figsize=(20,15))\n",
    "ax1 = fig.add_subplot(2,3,1)\n",
    "ax2 = fig.add_subplot(2,3,2)\n",
    "ax3 = fig.add_subplot(2,3,3)\n",
    "ax4 = fig.add_subplot(2,3,4)\n",
    "ax5 = fig.add_subplot(2,3,5)\n",
    "ax6 = fig.add_subplot(2,3,6)\n",
    "\n",
    "# plots with like on x axis and attributes on y axis:\n",
    "\n",
    "ax1.plot(count_by_like_attr, linestyle='None', marker='o')\n",
    "ax1.set_title('Attractive vs like')\n",
    "ax1.set_ylabel('Attribute: Attractive')\n",
    "ax1.set_xlabel('Like')\n",
    "\n",
    "ax2.plot(count_by_like_sinc, linestyle='None', marker='o')\n",
    "ax2.set_title('Sincere vs like')\n",
    "ax2.set_ylabel('Attribute: Sincere')\n",
    "ax2.set_xlabel('Like')\n",
    "\n",
    "ax3.plot(count_by_like_fun, linestyle='None', marker='o')\n",
    "ax3.set_title('Fun vs like')\n",
    "ax3.set_ylabel('Attribute: Fun')\n",
    "ax3.set_xlabel('Like')\n",
    "\n",
    "ax4.plot(count_by_like_intel, linestyle='None', marker='o')\n",
    "ax4.set_title('Intelligent vs like')\n",
    "ax4.set_ylabel('Attribute: Intelligent')\n",
    "ax4.set_xlabel('Like')\n",
    "\n",
    "ax5.plot(count_by_like_amb, linestyle='None', marker='o')\n",
    "ax5.set_title('Ambitious vs like')\n",
    "ax5.set_ylabel('Attribute: Ambitious')\n",
    "ax5.set_xlabel('Like')\n",
    "\n",
    "ax6.plot(count_by_like_shar, linestyle='None', marker='o')\n",
    "ax6.set_title('Shared insterests vs like')\n",
    "ax6.set_ylabel('Attribute: Shared insterests')\n",
    "ax6.set_xlabel('Like')\n",
    "\n",
    "plt.show()\n"
   ]
  },
  {
   "cell_type": "code",
   "execution_count": 386,
   "metadata": {},
   "outputs": [
    {
     "data": {
      "image/png": "[encoded data removed]",
      "text/plain": [
       "<matplotlib.figure.Figure at 0x1a0d9632b0>"
      ]
     },
     "metadata": {},
     "output_type": "display_data"
    }
   ],
   "source": [
    "# Combining scatter plots for all the data (blue), for the median (orange) and pearson correlation (r):\n",
    "\n",
    "from scipy.stats.stats import pearsonr\n",
    "\n",
    "r_attr, p_value = pearsonr(count_by_like_attr.index, count_by_like_attr)\n",
    "r_sinc, p_value = pearsonr(count_by_like_sinc.index, count_by_like_sinc)\n",
    "r_fun, p_value = pearsonr(count_by_like_fun.index, count_by_like_fun)\n",
    "r_intel, p_value = pearsonr(count_by_like_intel.index, count_by_like_intel)\n",
    "r_amb, p_value = pearsonr(count_by_like_amb.index, count_by_like_amb)\n",
    "r_shar, p_value = pearsonr(count_by_like_shar.index, count_by_like_shar)\n",
    "\n",
    "fig = plt.figure(figsize=(20,15))\n",
    "ax1 = fig.add_subplot(2,3,1)\n",
    "ax2 = fig.add_subplot(2,3,2)\n",
    "ax3 = fig.add_subplot(2,3,3)\n",
    "ax4 = fig.add_subplot(2,3,4)\n",
    "ax5 = fig.add_subplot(2,3,5)\n",
    "ax6 = fig.add_subplot(2,3,6)\n",
    "\n",
    "ax1.scatter(dating_data_clean['attr'], dating_data_clean['like'], alpha=.10)\n",
    "ax1.scatter(x=count_by_like_attr, y=count_by_like_attr.index, linestyle='None', marker='o')\n",
    "ax1.set_title('Attractive vs like')\n",
    "ax1.set_xlabel('Attribute: Attractive')\n",
    "ax1.set_ylabel('Like')\n",
    "ax1.annotate('r=' + str(r_attr),xy=(0.7,10),xytext=(0.7, 10))\n",
    "\n",
    "ax2.scatter(dating_data_clean['sinc'], dating_data_clean['like'], alpha=.10)\n",
    "ax2.scatter(x=count_by_like_sinc, y=count_by_like_sinc.index, linestyle='None', marker='o')\n",
    "ax2.set_title('Sincere vs like')\n",
    "ax2.set_xlabel('Attribute: Sincere')\n",
    "ax2.set_ylabel('Like')\n",
    "ax2.annotate('r=' + str(r_sinc),xy=(0.65,10),xytext=(0.65, 10))\n",
    "\n",
    "\n",
    "ax3.scatter(dating_data_clean['fun'], dating_data_clean['like'], alpha=.10)\n",
    "ax3.scatter(x=count_by_like_fun, y=count_by_like_fun.index, linestyle='None', marker='o')\n",
    "ax3.set_title('Fun vs like')\n",
    "ax3.set_xlabel('Attribute: Fun')\n",
    "ax3.set_ylabel('Like')\n",
    "ax3.annotate('r=' + str(r_fun),xy=(0.4,10),xytext=(0.4, 10))\n",
    "\n",
    "ax4.scatter(dating_data_clean['intel'], dating_data_clean['like'], alpha=.10)\n",
    "ax4.scatter(x=count_by_like_intel, y=count_by_like_intel.index, linestyle='None', marker='o')\n",
    "ax4.set_title('Intelligent vs like')\n",
    "ax4.set_xlabel('Attribute: Intelligent')\n",
    "ax4.set_ylabel('Like')\n",
    "ax4.annotate('r=' + str(r_intel),xy=(0.45,10),xytext=(0.45, 10))\n",
    "\n",
    "ax5.scatter(dating_data_clean['amb'], dating_data_clean['like'], alpha=.10)\n",
    "ax5.scatter(x=count_by_like_amb, y=count_by_like_amb.index, linestyle='None', marker='o')\n",
    "ax5.set_title('Ambitious vs like')\n",
    "ax5.set_xlabel('Attribute: Ambitious')\n",
    "ax5.set_ylabel('Like')\n",
    "ax5.annotate('r=' + str(r_amb),xy=(0.35,10),xytext=(0.35, 10))\n",
    "\n",
    "ax6.scatter(dating_data_clean['shar'], dating_data_clean['like'], alpha=.10)\n",
    "ax6.scatter(x=count_by_like_shar, y=count_by_like_shar.index, linestyle='None', marker='o')\n",
    "ax6.set_title('Shared insterests vs like')\n",
    "ax6.set_xlabel('Attribute: Shared insterests')\n",
    "ax6.set_ylabel('Like')\n",
    "ax6.annotate('r=' + str(r_shar),xy=(0.33,10),xytext=(0.33, 10))\n",
    "\n",
    "plt.show()\n",
    "\n",
    "\n"
   ]
  },
  {
   "cell_type": "markdown",
   "metadata": {},
   "source": [
    "**Correlation between ratings the night of event (partner evaluation) and like when decision for a 2nd date = yes**"
   ]
  },
  {
   "cell_type": "code",
   "execution_count": 387,
   "metadata": {},
   "outputs": [
    {
     "data": {
      "image/png": "[encoded data removed]",
      "text/plain": [
       "<matplotlib.figure.Figure at 0x1a0e40c668>"
      ]
     },
     "metadata": {},
     "output_type": "display_data"
    }
   ],
   "source": [
    "dec_check = dating_data_clean['dec'] == 1\n",
    "dec_data_event = dating_data_clean.loc[dec_check,('attr', 'sinc', 'intel','fun','amb', 'shar', 'like')]\n",
    "\n",
    "by_like = dec_data_event.groupby('like')\n",
    "\n",
    "# Aggregate each attribute column of by_like by median\n",
    "count_by_like_attr = by_like['attr'].median()\n",
    "count_by_like_sinc = by_like['sinc'].median()\n",
    "count_by_like_fun = by_like['fun'].median()\n",
    "count_by_like_intel = by_like['intel'].median()\n",
    "count_by_like_amb = by_like['amb'].median()\n",
    "count_by_like_shar = by_like['shar'].median()\n",
    "\n",
    "r_attr, p_value = pearsonr(count_by_like_attr.index, count_by_like_attr)\n",
    "r_sinc, p_value = pearsonr(count_by_like_sinc.index, count_by_like_sinc)\n",
    "r_fun, p_value = pearsonr(count_by_like_fun.index, count_by_like_fun)\n",
    "r_intel, p_value = pearsonr(count_by_like_intel.index, count_by_like_intel)\n",
    "r_amb, p_value = pearsonr(count_by_like_amb.index, count_by_like_amb)\n",
    "r_shar, p_value = pearsonr(count_by_like_shar.index, count_by_like_shar)\n",
    "\n",
    "fig = plt.figure(figsize=(20,15))\n",
    "ax1 = fig.add_subplot(2,3,1)\n",
    "ax2 = fig.add_subplot(2,3,2)\n",
    "ax3 = fig.add_subplot(2,3,3)\n",
    "ax4 = fig.add_subplot(2,3,4)\n",
    "ax5 = fig.add_subplot(2,3,5)\n",
    "ax6 = fig.add_subplot(2,3,6)\n",
    "\n",
    "ax1.scatter(dec_data_event['attr'], dec_data_event['like'], alpha=.10)\n",
    "ax1.scatter(x=count_by_like_attr, y=count_by_like_attr.index, linestyle='None', marker='o')\n",
    "ax1.set_title('Attractive vs like')\n",
    "ax1.set_xlabel('Attribute: Attractive')\n",
    "ax1.set_ylabel('Like')\n",
    "ax1.annotate('r=' + str(r_attr),xy=(0.7,10),xytext=(0.7, 10))\n",
    "\n",
    "ax2.scatter(dec_data_event['sinc'], dec_data_event['like'], alpha=.10)\n",
    "ax2.scatter(x=count_by_like_sinc, y=count_by_like_sinc.index, linestyle='None', marker='o')\n",
    "ax2.set_title('Sincere vs like')\n",
    "ax2.set_xlabel('Attribute: Sincere')\n",
    "ax2.set_ylabel('Like')\n",
    "ax2.annotate('r=' + str(r_sinc),xy=(0.4,10),xytext=(0.4, 10))\n",
    "\n",
    "\n",
    "ax3.scatter(dec_data_event['fun'], dec_data_event['like'], alpha=.10)\n",
    "ax3.scatter(x=count_by_like_fun, y=count_by_like_fun.index, linestyle='None', marker='o')\n",
    "ax3.set_title('Fun vs like')\n",
    "ax3.set_xlabel('Attribute: Fun')\n",
    "ax3.set_ylabel('Like')\n",
    "ax3.annotate('r=' + str(r_fun),xy=(0.38,10),xytext=(0.38, 10))\n",
    "\n",
    "ax4.scatter(dec_data_event['intel'], dec_data_event['like'], alpha=.10)\n",
    "ax4.scatter(x=count_by_like_intel, y=count_by_like_intel.index, linestyle='None', marker='o')\n",
    "ax4.set_title('Intelligent vs like')\n",
    "ax4.set_xlabel('Attribute: Intelligent')\n",
    "ax4.set_ylabel('Like')\n",
    "ax4.annotate('r=' + str(r_intel),xy=(0.35,10),xytext=(0.35, 10))\n",
    "\n",
    "ax5.scatter(dec_data_event['amb'], dec_data_event['like'], alpha=.10)\n",
    "ax5.scatter(x=count_by_like_amb, y=count_by_like_amb.index, linestyle='None', marker='o')\n",
    "ax5.set_title('Ambitious vs like')\n",
    "ax5.set_xlabel('Attribute: Ambitious')\n",
    "ax5.set_ylabel('Like')\n",
    "ax5.annotate('r=' + str(r_amb),xy=(0.35,10),xytext=(0.35, 10))\n",
    "\n",
    "ax6.scatter(dec_data_event['shar'], dec_data_event['like'], alpha=.10)\n",
    "ax6.scatter(x=count_by_like_shar, y=count_by_like_shar.index, linestyle='None', marker='o')\n",
    "ax6.set_title('Shared insterests vs like')\n",
    "ax6.set_xlabel('Attribute: Shared insterests')\n",
    "ax6.set_ylabel('Like')\n",
    "ax6.annotate('r=' + str(r_shar),xy=(0.30,10),xytext=(0.30, 10))\n",
    "\n",
    "plt.show()"
   ]
  },
  {
   "cell_type": "markdown",
   "metadata": {},
   "source": [
    "**Insights:**\n",
    "\n",
    "- Attributes where ratings median has higher positive correlation with like: shared interests (r = 0.887), attractive (r = 0.554)\n",
    "- Attributes where ratings median has negative correlation with like: intelligent (r = -0.923), sincere (r = -0.759), ambitious (r = -0.607)\n",
    "- Attribute fun had a stronger positive correlation when analyzing both participants that said yes and no (r = 0.505). For only participants that said yes to a 2nd date, attribute fun has a weak positive correlation (r = 0.098). \n",
    "- Shared interests and attractive likely play a major role in a decision for a second date.\n",
    "- Fun highly influences if a person likes another one in the first date, but it doesn't seem to impact like for participants that decided for 2nd date.\n"
   ]
  },
  {
   "cell_type": "markdown",
   "metadata": {},
   "source": [
    "**Histogram of 'like' for participants who said yes to a 2nd date**"
   ]
  },
  {
   "cell_type": "code",
   "execution_count": 388,
   "metadata": {},
   "outputs": [
    {
     "data": {
      "image/png": "[encoded data removed]",
      "text/plain": [
       "<matplotlib.figure.Figure at 0x1a0d017d30>"
      ]
     },
     "metadata": {},
     "output_type": "display_data"
    }
   ],
   "source": [
    "dec_check = dating_data_clean['dec'] == 1\n",
    "dec_data_yes = dating_data_clean.loc[dec_check,('dec', 'like')]\n",
    "plt.hist(dec_data_yes['like'],normed=True, bins=10)\n",
    "\n",
    "plt.show()"
   ]
  },
  {
   "cell_type": "code",
   "execution_count": 389,
   "metadata": {},
   "outputs": [
    {
     "data": {
      "text/plain": [
       "dec     1.000000\n",
       "like    7.222079\n",
       "dtype: float64"
      ]
     },
     "execution_count": 389,
     "metadata": {},
     "output_type": "execute_result"
    }
   ],
   "source": [
    "dec_data_yes.mean()"
   ]
  },
  {
   "cell_type": "markdown",
   "metadata": {},
   "source": [
    "**Histogram of 'like' for participants that didn't say yes for a 2nd date**"
   ]
  },
  {
   "cell_type": "code",
   "execution_count": 390,
   "metadata": {},
   "outputs": [
    {
     "data": {
      "image/png": "[encoded data removed]",
      "text/plain": [
       "<matplotlib.figure.Figure at 0x1a0d481d30>"
      ]
     },
     "metadata": {},
     "output_type": "display_data"
    }
   ],
   "source": [
    "dec_check = dating_data_clean['dec'] == 0\n",
    "dec_data_no = dating_data_clean.loc[dec_check,('dec', 'like')]\n",
    "plt.hist(dec_data_no['like'],normed=True, bins=10)\n",
    "\n",
    "plt.show()"
   ]
  },
  {
   "cell_type": "code",
   "execution_count": 391,
   "metadata": {},
   "outputs": [
    {
     "data": {
      "text/plain": [
       "dec     0.000000\n",
       "like    5.321819\n",
       "dtype: float64"
      ]
     },
     "execution_count": 391,
     "metadata": {},
     "output_type": "execute_result"
    }
   ],
   "source": [
    "dec_data_no.mean()"
   ]
  },
  {
   "cell_type": "markdown",
   "metadata": {},
   "source": [
    "Mean of 'like' feature is higher between participants that decided for a 2nd date (7.22) vs. participants that didn't decide for a 2nd date (5.32)"
   ]
  },
  {
   "cell_type": "markdown",
   "metadata": {},
   "source": [
    "**Correlation between ratings the night of event (partner evaluation) and like when decision for a 2nd date = no**"
   ]
  },
  {
   "cell_type": "code",
   "execution_count": 392,
   "metadata": {},
   "outputs": [
    {
     "data": {
      "image/png": "[encoded data removed]",
      "text/plain": [
       "<matplotlib.figure.Figure at 0x1a0e40c6d8>"
      ]
     },
     "metadata": {},
     "output_type": "display_data"
    }
   ],
   "source": [
    "dec_check = dating_data_clean['dec'] == 0\n",
    "dec_data_event = dating_data_clean.loc[dec_check,('attr', 'sinc', 'intel','fun','amb', 'shar', 'like')]\n",
    "\n",
    "by_like = dec_data_event.groupby('like')\n",
    "\n",
    "# Aggregate each attribute column of by_like by median\n",
    "count_by_like_attr = by_like['attr'].median()\n",
    "count_by_like_sinc = by_like['sinc'].median()\n",
    "count_by_like_fun = by_like['fun'].median()\n",
    "count_by_like_intel = by_like['intel'].median()\n",
    "count_by_like_amb = by_like['amb'].median()\n",
    "count_by_like_shar = by_like['shar'].median()\n",
    "\n",
    "r_attr, p_value = pearsonr(count_by_like_attr.index, count_by_like_attr)\n",
    "r_sinc, p_value = pearsonr(count_by_like_sinc.index, count_by_like_sinc)\n",
    "r_fun, p_value = pearsonr(count_by_like_fun.index, count_by_like_fun)\n",
    "r_intel, p_value = pearsonr(count_by_like_intel.index, count_by_like_intel)\n",
    "r_amb, p_value = pearsonr(count_by_like_amb.index, count_by_like_amb)\n",
    "r_shar, p_value = pearsonr(count_by_like_shar.index, count_by_like_shar)\n",
    "\n",
    "fig = plt.figure(figsize=(20,15))\n",
    "ax1 = fig.add_subplot(2,3,1)\n",
    "ax2 = fig.add_subplot(2,3,2)\n",
    "ax3 = fig.add_subplot(2,3,3)\n",
    "ax4 = fig.add_subplot(2,3,4)\n",
    "ax5 = fig.add_subplot(2,3,5)\n",
    "ax6 = fig.add_subplot(2,3,6)\n",
    "\n",
    "ax1.scatter(dec_data_event['attr'], dec_data_event['like'], alpha=.10)\n",
    "ax1.scatter(x=count_by_like_attr, y=count_by_like_attr.index, linestyle='None', marker='o')\n",
    "ax1.set_title('Attractive vs like')\n",
    "ax1.set_xlabel('Attribute: Attractive')\n",
    "ax1.set_ylabel('Like')\n",
    "ax1.annotate('r=' + str(r_attr),xy=(0.7,10),xytext=(0.7, 10))\n",
    "\n",
    "ax2.scatter(dec_data_event['sinc'], dec_data_event['like'], alpha=.10)\n",
    "ax2.scatter(x=count_by_like_sinc, y=count_by_like_sinc.index, linestyle='None', marker='o')\n",
    "ax2.set_title('Sincere vs like')\n",
    "ax2.set_xlabel('Attribute: Sincere')\n",
    "ax2.set_ylabel('Like')\n",
    "ax2.annotate('r=' + str(r_sinc),xy=(0.6,10),xytext=(0.6, 10))\n",
    "\n",
    "\n",
    "ax3.scatter(dec_data_event['fun'], dec_data_event['like'], alpha=.10)\n",
    "ax3.scatter(x=count_by_like_fun, y=count_by_like_fun.index, linestyle='None', marker='o')\n",
    "ax3.set_title('Fun vs like')\n",
    "ax3.set_xlabel('Attribute: Fun')\n",
    "ax3.set_ylabel('Like')\n",
    "ax3.annotate('r=' + str(r_fun),xy=(0.28,10),xytext=(0.28, 10))\n",
    "\n",
    "ax4.scatter(dec_data_event['intel'], dec_data_event['like'], alpha=.10)\n",
    "ax4.scatter(x=count_by_like_intel, y=count_by_like_intel.index, linestyle='None', marker='o')\n",
    "ax4.set_title('Intelligent vs like')\n",
    "ax4.set_xlabel('Attribute: Intelligent')\n",
    "ax4.set_ylabel('Like')\n",
    "ax4.annotate('r=' + str(r_intel),xy=(0.35,10),xytext=(0.35, 10))\n",
    "\n",
    "ax5.scatter(dec_data_event['amb'], dec_data_event['like'], alpha=.10)\n",
    "ax5.scatter(x=count_by_like_amb, y=count_by_like_amb.index, linestyle='None', marker='o')\n",
    "ax5.set_title('Ambitious vs like')\n",
    "ax5.set_xlabel('Attribute: Ambitious')\n",
    "ax5.set_ylabel('Like')\n",
    "ax5.annotate('r=' + str(r_amb),xy=(0.35,10),xytext=(0.35, 10))\n",
    "\n",
    "ax6.scatter(dec_data_event['shar'], dec_data_event['like'], alpha=.10)\n",
    "ax6.scatter(x=count_by_like_shar, y=count_by_like_shar.index, linestyle='None', marker='o')\n",
    "ax6.set_title('Shared insterests vs like')\n",
    "ax6.set_xlabel('Attribute: Shared insterests')\n",
    "ax6.set_ylabel('Like')\n",
    "ax6.annotate('r=' + str(r_shar),xy=(0.33,10),xytext=(0.33, 10))\n",
    "\n",
    "plt.show()"
   ]
  },
  {
   "cell_type": "markdown",
   "metadata": {},
   "source": [
    "**Correlation between ratings the night of event (partner evaluation) and like by gender**"
   ]
  },
  {
   "cell_type": "code",
   "execution_count": 393,
   "metadata": {},
   "outputs": [
    {
     "data": {
      "text/plain": [
       "(0.12277171406781823, 0.12762000472364957)"
      ]
     },
     "execution_count": 393,
     "metadata": {},
     "output_type": "execute_result"
    }
   ],
   "source": [
    "r_attr_o_g = (pearson_r(dating_data_clean.loc[test_gender_w,'attr'], dating_data_clean.loc[test_gender_w, 'like']),pearson_r(dating_data_clean.loc[test_gender_m,'attr'], dating_data_clean.loc[test_gender_m, 'like'])) \n",
    "\n",
    "# correlation: women, men\n",
    "r_attr_o_g\n"
   ]
  },
  {
   "cell_type": "code",
   "execution_count": 394,
   "metadata": {},
   "outputs": [
    {
     "data": {
      "text/plain": [
       "(-0.15996433854008377, -0.15674072637467779)"
      ]
     },
     "execution_count": 394,
     "metadata": {},
     "output_type": "execute_result"
    }
   ],
   "source": [
    "r_sinc_o_g = (pearson_r(dating_data_clean.loc[test_gender_w,'sinc'], dating_data_clean.loc[test_gender_w, 'like']),pearson_r(dating_data_clean.loc[test_gender_m,'sinc'], dating_data_clean.loc[test_gender_m, 'like'])) \n",
    "\n",
    "# correlation: women, men\n",
    "r_sinc_o_g"
   ]
  },
  {
   "cell_type": "code",
   "execution_count": 395,
   "metadata": {},
   "outputs": [
    {
     "data": {
      "text/plain": [
       "(-0.27774911739280395, -0.22685349150313472)"
      ]
     },
     "execution_count": 395,
     "metadata": {},
     "output_type": "execute_result"
    }
   ],
   "source": [
    "r_intel_o_g = (pearson_r(dating_data_clean.loc[test_gender_w,'intel'], dating_data_clean.loc[test_gender_w, 'like']),pearson_r(dating_data_clean.loc[test_gender_m,'intel'], dating_data_clean.loc[test_gender_m, 'like'])) \n",
    "\n",
    "# correlation: women, men\n",
    "r_intel_o_g"
   ]
  },
  {
   "cell_type": "code",
   "execution_count": 396,
   "metadata": {},
   "outputs": [
    {
     "data": {
      "text/plain": [
       "(0.23550206444193658, 0.14736696152416054)"
      ]
     },
     "execution_count": 396,
     "metadata": {},
     "output_type": "execute_result"
    }
   ],
   "source": [
    "r_fun_o_g = (pearson_r(dating_data_clean.loc[test_gender_w,'fun'], dating_data_clean.loc[test_gender_w, 'like']),pearson_r(dating_data_clean.loc[test_gender_m,'fun'], dating_data_clean.loc[test_gender_m, 'like'])) \n",
    "\n",
    "# correlation: women, men\n",
    "r_fun_o_g"
   ]
  },
  {
   "cell_type": "code",
   "execution_count": 397,
   "metadata": {},
   "outputs": [
    {
     "data": {
      "text/plain": [
       "(-0.17642715529452119, -0.15619277016020217)"
      ]
     },
     "execution_count": 397,
     "metadata": {},
     "output_type": "execute_result"
    }
   ],
   "source": [
    "r_amb_o_g = (pearson_r(dating_data_clean.loc[test_gender_w,'amb'], dating_data_clean.loc[test_gender_w, 'like']),pearson_r(dating_data_clean.loc[test_gender_m,'amb'], dating_data_clean.loc[test_gender_m, 'like'])) \n",
    "\n",
    "# correlation: women, men\n",
    "r_amb_o_g"
   ]
  },
  {
   "cell_type": "code",
   "execution_count": 398,
   "metadata": {},
   "outputs": [
    {
     "data": {
      "text/plain": [
       "(0.25880189284050809, 0.19818241200961526)"
      ]
     },
     "execution_count": 398,
     "metadata": {},
     "output_type": "execute_result"
    }
   ],
   "source": [
    "r_shar_o_g = (pearson_r(dating_data_clean.loc[test_gender_w,'shar'], dating_data_clean.loc[test_gender_w, 'like']),pearson_r(dating_data_clean.loc[test_gender_m,'shar'], dating_data_clean.loc[test_gender_m, 'like'])) \n",
    "\n",
    "# correlation: women, men\n",
    "r_shar_o_g"
   ]
  },
  {
   "cell_type": "markdown",
   "metadata": {},
   "source": [
    "Findings: \n",
    "- not a big difference based on gender"
   ]
  },
  {
   "cell_type": "markdown",
   "metadata": {},
   "source": [
    "**Correlation between attributes importance at sign up and partner evaluation the night of event when decision to see partner again = yes**"
   ]
  },
  {
   "cell_type": "code",
   "execution_count": 399,
   "metadata": {},
   "outputs": [
    {
     "data": {
      "text/html": [
       "<div>\n",
       "<style scoped>\n",
       "    .dataframe tbody tr th:only-of-type {\n",
       "        vertical-align: middle;\n",
       "    }\n",
       "\n",
       "    .dataframe tbody tr th {\n",
       "        vertical-align: top;\n",
       "    }\n",
       "\n",
       "    .dataframe thead th {\n",
       "        text-align: right;\n",
       "    }\n",
       "</style>\n",
       "<table border=\"1\" class=\"dataframe\">\n",
       "  <thead>\n",
       "    <tr style=\"text-align: right;\">\n",
       "      <th></th>\n",
       "      <th>attr</th>\n",
       "      <th>sinc</th>\n",
       "      <th>intel</th>\n",
       "      <th>fun</th>\n",
       "      <th>amb</th>\n",
       "      <th>shar</th>\n",
       "    </tr>\n",
       "  </thead>\n",
       "  <tbody>\n",
       "    <tr>\n",
       "      <th>count</th>\n",
       "      <td>3501.000000</td>\n",
       "      <td>3501.000000</td>\n",
       "      <td>3501.000000</td>\n",
       "      <td>3501.000000</td>\n",
       "      <td>3501.000000</td>\n",
       "      <td>3501.000000</td>\n",
       "    </tr>\n",
       "    <tr>\n",
       "      <th>mean</th>\n",
       "      <td>0.175837</td>\n",
       "      <td>0.179777</td>\n",
       "      <td>0.183482</td>\n",
       "      <td>0.170709</td>\n",
       "      <td>0.155295</td>\n",
       "      <td>0.134328</td>\n",
       "    </tr>\n",
       "    <tr>\n",
       "      <th>std</th>\n",
       "      <td>0.048919</td>\n",
       "      <td>0.039845</td>\n",
       "      <td>0.037531</td>\n",
       "      <td>0.039198</td>\n",
       "      <td>0.050874</td>\n",
       "      <td>0.055564</td>\n",
       "    </tr>\n",
       "    <tr>\n",
       "      <th>min</th>\n",
       "      <td>0.000000</td>\n",
       "      <td>0.000000</td>\n",
       "      <td>0.000000</td>\n",
       "      <td>0.000000</td>\n",
       "      <td>0.000000</td>\n",
       "      <td>0.000000</td>\n",
       "    </tr>\n",
       "    <tr>\n",
       "      <th>25%</th>\n",
       "      <td>0.155556</td>\n",
       "      <td>0.163265</td>\n",
       "      <td>0.166667</td>\n",
       "      <td>0.157895</td>\n",
       "      <td>0.146341</td>\n",
       "      <td>0.120000</td>\n",
       "    </tr>\n",
       "    <tr>\n",
       "      <th>50%</th>\n",
       "      <td>0.170213</td>\n",
       "      <td>0.175000</td>\n",
       "      <td>0.179487</td>\n",
       "      <td>0.170213</td>\n",
       "      <td>0.166667</td>\n",
       "      <td>0.148936</td>\n",
       "    </tr>\n",
       "    <tr>\n",
       "      <th>75%</th>\n",
       "      <td>0.190476</td>\n",
       "      <td>0.195122</td>\n",
       "      <td>0.195122</td>\n",
       "      <td>0.186047</td>\n",
       "      <td>0.179487</td>\n",
       "      <td>0.166667</td>\n",
       "    </tr>\n",
       "    <tr>\n",
       "      <th>max</th>\n",
       "      <td>1.000000</td>\n",
       "      <td>0.583333</td>\n",
       "      <td>0.500000</td>\n",
       "      <td>0.562500</td>\n",
       "      <td>0.500000</td>\n",
       "      <td>0.416667</td>\n",
       "    </tr>\n",
       "  </tbody>\n",
       "</table>\n",
       "</div>"
      ],
      "text/plain": [
       "              attr         sinc        intel          fun          amb  \\\n",
       "count  3501.000000  3501.000000  3501.000000  3501.000000  3501.000000   \n",
       "mean      0.175837     0.179777     0.183482     0.170709     0.155295   \n",
       "std       0.048919     0.039845     0.037531     0.039198     0.050874   \n",
       "min       0.000000     0.000000     0.000000     0.000000     0.000000   \n",
       "25%       0.155556     0.163265     0.166667     0.157895     0.146341   \n",
       "50%       0.170213     0.175000     0.179487     0.170213     0.166667   \n",
       "75%       0.190476     0.195122     0.195122     0.186047     0.179487   \n",
       "max       1.000000     0.583333     0.500000     0.562500     0.500000   \n",
       "\n",
       "              shar  \n",
       "count  3501.000000  \n",
       "mean      0.134328  \n",
       "std       0.055564  \n",
       "min       0.000000  \n",
       "25%       0.120000  \n",
       "50%       0.148936  \n",
       "75%       0.166667  \n",
       "max       0.416667  "
      ]
     },
     "execution_count": 399,
     "metadata": {},
     "output_type": "execute_result"
    }
   ],
   "source": [
    "dec_check = dating_data_clean['dec'] == 1\n",
    "dec_data_event = dating_data_clean.loc[dec_check,'attr':'shar']\n",
    "dec_data_event.describe()"
   ]
  },
  {
   "cell_type": "code",
   "execution_count": 400,
   "metadata": {},
   "outputs": [
    {
     "data": {
      "text/plain": [
       "<function matplotlib.pyplot.show>"
      ]
     },
     "execution_count": 400,
     "metadata": {},
     "output_type": "execute_result"
    },
    {
     "data": {
      "image/png": "[encoded data removed]",
      "text/plain": [
       "<matplotlib.figure.Figure at 0x1a19141c18>"
      ]
     },
     "metadata": {},
     "output_type": "display_data"
    }
   ],
   "source": [
    "plt.subplot(2, 3, 1)\n",
    "plt.hist(dec_data_event['attr'], normed=True, bins=100)\n",
    "\n",
    "plt.subplot(2, 3, 2)\n",
    "plt.hist(dec_data_event['sinc'], normed=True, bins=100)\n",
    "\n",
    "plt.subplot(2, 3, 3)\n",
    "plt.hist(dec_data_event['intel'], normed=True, bins=100)\n",
    "\n",
    "plt.subplot(2, 3, 4)\n",
    "plt.hist(dec_data_event['fun'], normed=True, bins=100)\n",
    "\n",
    "plt.subplot(2, 3, 5)\n",
    "plt.hist(dec_data_event['amb'], normed=True, bins=100)\n",
    "\n",
    "plt.subplot(2, 3, 6)\n",
    "plt.hist(dec_data_event['shar'], normed=True, bins=100)\n",
    "\n",
    "\n",
    "plt.show"
   ]
  },
  {
   "cell_type": "code",
   "execution_count": 401,
   "metadata": {},
   "outputs": [
    {
     "data": {
      "text/html": [
       "<div>\n",
       "<style scoped>\n",
       "    .dataframe tbody tr th:only-of-type {\n",
       "        vertical-align: middle;\n",
       "    }\n",
       "\n",
       "    .dataframe tbody tr th {\n",
       "        vertical-align: top;\n",
       "    }\n",
       "\n",
       "    .dataframe thead th {\n",
       "        text-align: right;\n",
       "    }\n",
       "</style>\n",
       "<table border=\"1\" class=\"dataframe\">\n",
       "  <thead>\n",
       "    <tr style=\"text-align: right;\">\n",
       "      <th></th>\n",
       "      <th>attr1_1</th>\n",
       "      <th>sinc1_1</th>\n",
       "      <th>intel1_1</th>\n",
       "      <th>fun1_1</th>\n",
       "      <th>amb1_1</th>\n",
       "      <th>shar1_1</th>\n",
       "    </tr>\n",
       "  </thead>\n",
       "  <tbody>\n",
       "    <tr>\n",
       "      <th>count</th>\n",
       "      <td>3501.000000</td>\n",
       "      <td>3501.000000</td>\n",
       "      <td>3501.000000</td>\n",
       "      <td>3501.000000</td>\n",
       "      <td>3501.000000</td>\n",
       "      <td>3501.000000</td>\n",
       "    </tr>\n",
       "    <tr>\n",
       "      <th>mean</th>\n",
       "      <td>0.220708</td>\n",
       "      <td>0.175060</td>\n",
       "      <td>0.200642</td>\n",
       "      <td>0.172801</td>\n",
       "      <td>0.104025</td>\n",
       "      <td>0.120196</td>\n",
       "    </tr>\n",
       "    <tr>\n",
       "      <th>std</th>\n",
       "      <td>0.127457</td>\n",
       "      <td>0.071467</td>\n",
       "      <td>0.069375</td>\n",
       "      <td>0.063975</td>\n",
       "      <td>0.060419</td>\n",
       "      <td>0.067829</td>\n",
       "    </tr>\n",
       "    <tr>\n",
       "      <th>min</th>\n",
       "      <td>0.000000</td>\n",
       "      <td>0.000000</td>\n",
       "      <td>0.000000</td>\n",
       "      <td>0.000000</td>\n",
       "      <td>0.000000</td>\n",
       "      <td>0.000000</td>\n",
       "    </tr>\n",
       "    <tr>\n",
       "      <th>25%</th>\n",
       "      <td>0.150000</td>\n",
       "      <td>0.150000</td>\n",
       "      <td>0.177782</td>\n",
       "      <td>0.147071</td>\n",
       "      <td>0.050000</td>\n",
       "      <td>0.080000</td>\n",
       "    </tr>\n",
       "    <tr>\n",
       "      <th>50%</th>\n",
       "      <td>0.200000</td>\n",
       "      <td>0.189219</td>\n",
       "      <td>0.200000</td>\n",
       "      <td>0.179518</td>\n",
       "      <td>0.100000</td>\n",
       "      <td>0.111111</td>\n",
       "    </tr>\n",
       "    <tr>\n",
       "      <th>75%</th>\n",
       "      <td>0.250000</td>\n",
       "      <td>0.200000</td>\n",
       "      <td>0.238100</td>\n",
       "      <td>0.200000</td>\n",
       "      <td>0.150000</td>\n",
       "      <td>0.169800</td>\n",
       "    </tr>\n",
       "    <tr>\n",
       "      <th>max</th>\n",
       "      <td>1.000000</td>\n",
       "      <td>0.600000</td>\n",
       "      <td>0.500000</td>\n",
       "      <td>0.500000</td>\n",
       "      <td>0.358108</td>\n",
       "      <td>0.300000</td>\n",
       "    </tr>\n",
       "  </tbody>\n",
       "</table>\n",
       "</div>"
      ],
      "text/plain": [
       "           attr1_1      sinc1_1     intel1_1       fun1_1       amb1_1  \\\n",
       "count  3501.000000  3501.000000  3501.000000  3501.000000  3501.000000   \n",
       "mean      0.220708     0.175060     0.200642     0.172801     0.104025   \n",
       "std       0.127457     0.071467     0.069375     0.063975     0.060419   \n",
       "min       0.000000     0.000000     0.000000     0.000000     0.000000   \n",
       "25%       0.150000     0.150000     0.177782     0.147071     0.050000   \n",
       "50%       0.200000     0.189219     0.200000     0.179518     0.100000   \n",
       "75%       0.250000     0.200000     0.238100     0.200000     0.150000   \n",
       "max       1.000000     0.600000     0.500000     0.500000     0.358108   \n",
       "\n",
       "           shar1_1  \n",
       "count  3501.000000  \n",
       "mean      0.120196  \n",
       "std       0.067829  \n",
       "min       0.000000  \n",
       "25%       0.080000  \n",
       "50%       0.111111  \n",
       "75%       0.169800  \n",
       "max       0.300000  "
      ]
     },
     "execution_count": 401,
     "metadata": {},
     "output_type": "execute_result"
    }
   ],
   "source": [
    "dec_data_signup = dating_data_clean.loc[dec_check,'attr1_1':'shar1_1']\n",
    "dec_data_signup.describe()"
   ]
  },
  {
   "cell_type": "code",
   "execution_count": 402,
   "metadata": {},
   "outputs": [
    {
     "data": {
      "text/plain": [
       "0.086546249680664961"
      ]
     },
     "execution_count": 402,
     "metadata": {},
     "output_type": "execute_result"
    }
   ],
   "source": [
    "from scipy.stats.stats import pearsonr\n",
    "\n",
    "r, p_value = pearsonr(dec_data_signup[\"attr1_1\"], dec_data_event[\"attr\"])\n",
    "r"
   ]
  },
  {
   "cell_type": "code",
   "execution_count": 403,
   "metadata": {},
   "outputs": [
    {
     "data": {
      "text/plain": [
       "0.020917505186251947"
      ]
     },
     "execution_count": 403,
     "metadata": {},
     "output_type": "execute_result"
    }
   ],
   "source": [
    "r, p_value = pearsonr(dec_data_signup[\"sinc1_1\"], dec_data_event[\"sinc\"])\n",
    "r"
   ]
  },
  {
   "cell_type": "code",
   "execution_count": 404,
   "metadata": {},
   "outputs": [
    {
     "data": {
      "text/plain": [
       "-0.0030664663878727572"
      ]
     },
     "execution_count": 404,
     "metadata": {},
     "output_type": "execute_result"
    }
   ],
   "source": [
    "r, p_value = pearsonr(dec_data_signup[\"intel1_1\"], dec_data_event[\"intel\"])\n",
    "r"
   ]
  },
  {
   "cell_type": "code",
   "execution_count": 405,
   "metadata": {},
   "outputs": [
    {
     "data": {
      "text/plain": [
       "0.049377289497941304"
      ]
     },
     "execution_count": 405,
     "metadata": {},
     "output_type": "execute_result"
    }
   ],
   "source": [
    "r, p_value = pearsonr(dec_data_signup[\"fun1_1\"], dec_data_event[\"fun\"])\n",
    "r"
   ]
  },
  {
   "cell_type": "code",
   "execution_count": 406,
   "metadata": {},
   "outputs": [
    {
     "data": {
      "text/plain": [
       "0.097102323711419844"
      ]
     },
     "execution_count": 406,
     "metadata": {},
     "output_type": "execute_result"
    }
   ],
   "source": [
    "r, p_value = pearsonr(dec_data_signup[\"amb1_1\"], dec_data_event[\"amb\"])\n",
    "r"
   ]
  },
  {
   "cell_type": "code",
   "execution_count": 407,
   "metadata": {},
   "outputs": [
    {
     "data": {
      "text/plain": [
       "-0.012589961417340386"
      ]
     },
     "execution_count": 407,
     "metadata": {},
     "output_type": "execute_result"
    }
   ],
   "source": [
    "r, p_value = pearsonr(dec_data_signup[\"shar1_1\"], dec_data_event[\"shar\"])\n",
    "r"
   ]
  },
  {
   "cell_type": "markdown",
   "metadata": {},
   "source": [
    "Weak correlation between attributes that were ranked based on importance at sign up and attributes ranking the night of even for participants that said yes to a second date."
   ]
  },
  {
   "cell_type": "markdown",
   "metadata": {},
   "source": [
    "**Correlation between attributes importance at sign up and partner evaluation the night of event when decision to see partner again = no**"
   ]
  },
  {
   "cell_type": "code",
   "execution_count": 408,
   "metadata": {},
   "outputs": [
    {
     "data": {
      "text/html": [
       "<div>\n",
       "<style scoped>\n",
       "    .dataframe tbody tr th:only-of-type {\n",
       "        vertical-align: middle;\n",
       "    }\n",
       "\n",
       "    .dataframe tbody tr th {\n",
       "        vertical-align: top;\n",
       "    }\n",
       "\n",
       "    .dataframe thead th {\n",
       "        text-align: right;\n",
       "    }\n",
       "</style>\n",
       "<table border=\"1\" class=\"dataframe\">\n",
       "  <thead>\n",
       "    <tr style=\"text-align: right;\">\n",
       "      <th></th>\n",
       "      <th>attr</th>\n",
       "      <th>sinc</th>\n",
       "      <th>intel</th>\n",
       "      <th>fun</th>\n",
       "      <th>amb</th>\n",
       "      <th>shar</th>\n",
       "    </tr>\n",
       "  </thead>\n",
       "  <tbody>\n",
       "    <tr>\n",
       "      <th>count</th>\n",
       "      <td>4629.000000</td>\n",
       "      <td>4629.000000</td>\n",
       "      <td>4629.000000</td>\n",
       "      <td>4629.000000</td>\n",
       "      <td>4629.000000</td>\n",
       "      <td>4629.000000</td>\n",
       "    </tr>\n",
       "    <tr>\n",
       "      <th>mean</th>\n",
       "      <td>0.156182</td>\n",
       "      <td>0.196363</td>\n",
       "      <td>0.201832</td>\n",
       "      <td>0.157815</td>\n",
       "      <td>0.172094</td>\n",
       "      <td>0.114851</td>\n",
       "    </tr>\n",
       "    <tr>\n",
       "      <th>std</th>\n",
       "      <td>0.062003</td>\n",
       "      <td>0.056962</td>\n",
       "      <td>0.050860</td>\n",
       "      <td>0.047794</td>\n",
       "      <td>0.061538</td>\n",
       "      <td>0.059659</td>\n",
       "    </tr>\n",
       "    <tr>\n",
       "      <th>min</th>\n",
       "      <td>0.000000</td>\n",
       "      <td>0.000000</td>\n",
       "      <td>0.000000</td>\n",
       "      <td>0.000000</td>\n",
       "      <td>0.000000</td>\n",
       "      <td>0.000000</td>\n",
       "    </tr>\n",
       "    <tr>\n",
       "      <th>25%</th>\n",
       "      <td>0.127660</td>\n",
       "      <td>0.166667</td>\n",
       "      <td>0.176471</td>\n",
       "      <td>0.138889</td>\n",
       "      <td>0.152174</td>\n",
       "      <td>0.081081</td>\n",
       "    </tr>\n",
       "    <tr>\n",
       "      <th>50%</th>\n",
       "      <td>0.153846</td>\n",
       "      <td>0.191489</td>\n",
       "      <td>0.195122</td>\n",
       "      <td>0.162162</td>\n",
       "      <td>0.175000</td>\n",
       "      <td>0.127660</td>\n",
       "    </tr>\n",
       "    <tr>\n",
       "      <th>75%</th>\n",
       "      <td>0.178571</td>\n",
       "      <td>0.216216</td>\n",
       "      <td>0.222222</td>\n",
       "      <td>0.181818</td>\n",
       "      <td>0.200000</td>\n",
       "      <td>0.155556</td>\n",
       "    </tr>\n",
       "    <tr>\n",
       "      <th>max</th>\n",
       "      <td>1.000000</td>\n",
       "      <td>0.909091</td>\n",
       "      <td>0.692308</td>\n",
       "      <td>0.421053</td>\n",
       "      <td>0.500000</td>\n",
       "      <td>0.470588</td>\n",
       "    </tr>\n",
       "  </tbody>\n",
       "</table>\n",
       "</div>"
      ],
      "text/plain": [
       "              attr         sinc        intel          fun          amb  \\\n",
       "count  4629.000000  4629.000000  4629.000000  4629.000000  4629.000000   \n",
       "mean      0.156182     0.196363     0.201832     0.157815     0.172094   \n",
       "std       0.062003     0.056962     0.050860     0.047794     0.061538   \n",
       "min       0.000000     0.000000     0.000000     0.000000     0.000000   \n",
       "25%       0.127660     0.166667     0.176471     0.138889     0.152174   \n",
       "50%       0.153846     0.191489     0.195122     0.162162     0.175000   \n",
       "75%       0.178571     0.216216     0.222222     0.181818     0.200000   \n",
       "max       1.000000     0.909091     0.692308     0.421053     0.500000   \n",
       "\n",
       "              shar  \n",
       "count  4629.000000  \n",
       "mean      0.114851  \n",
       "std       0.059659  \n",
       "min       0.000000  \n",
       "25%       0.081081  \n",
       "50%       0.127660  \n",
       "75%       0.155556  \n",
       "max       0.470588  "
      ]
     },
     "execution_count": 408,
     "metadata": {},
     "output_type": "execute_result"
    }
   ],
   "source": [
    "dec_check_no = dating_data_clean['dec'] == 0\n",
    "dec_data_event = dating_data_clean.loc[dec_check_no,'attr':'shar']\n",
    "dec_data_event.describe()"
   ]
  },
  {
   "cell_type": "code",
   "execution_count": 409,
   "metadata": {},
   "outputs": [
    {
     "data": {
      "text/html": [
       "<div>\n",
       "<style scoped>\n",
       "    .dataframe tbody tr th:only-of-type {\n",
       "        vertical-align: middle;\n",
       "    }\n",
       "\n",
       "    .dataframe tbody tr th {\n",
       "        vertical-align: top;\n",
       "    }\n",
       "\n",
       "    .dataframe thead th {\n",
       "        text-align: right;\n",
       "    }\n",
       "</style>\n",
       "<table border=\"1\" class=\"dataframe\">\n",
       "  <thead>\n",
       "    <tr style=\"text-align: right;\">\n",
       "      <th></th>\n",
       "      <th>attr1_1</th>\n",
       "      <th>sinc1_1</th>\n",
       "      <th>intel1_1</th>\n",
       "      <th>fun1_1</th>\n",
       "      <th>amb1_1</th>\n",
       "      <th>shar1_1</th>\n",
       "    </tr>\n",
       "  </thead>\n",
       "  <tbody>\n",
       "    <tr>\n",
       "      <th>count</th>\n",
       "      <td>4629.000000</td>\n",
       "      <td>4629.000000</td>\n",
       "      <td>4629.000000</td>\n",
       "      <td>4629.000000</td>\n",
       "      <td>4629.000000</td>\n",
       "      <td>4629.000000</td>\n",
       "    </tr>\n",
       "    <tr>\n",
       "      <th>mean</th>\n",
       "      <td>0.224966</td>\n",
       "      <td>0.170440</td>\n",
       "      <td>0.201641</td>\n",
       "      <td>0.172309</td>\n",
       "      <td>0.106942</td>\n",
       "      <td>0.113765</td>\n",
       "    </tr>\n",
       "    <tr>\n",
       "      <th>std</th>\n",
       "      <td>0.127057</td>\n",
       "      <td>0.072438</td>\n",
       "      <td>0.070870</td>\n",
       "      <td>0.062112</td>\n",
       "      <td>0.060834</td>\n",
       "      <td>0.062099</td>\n",
       "    </tr>\n",
       "    <tr>\n",
       "      <th>min</th>\n",
       "      <td>0.000000</td>\n",
       "      <td>0.000000</td>\n",
       "      <td>0.000000</td>\n",
       "      <td>0.000000</td>\n",
       "      <td>0.000000</td>\n",
       "      <td>0.000000</td>\n",
       "    </tr>\n",
       "    <tr>\n",
       "      <th>25%</th>\n",
       "      <td>0.150000</td>\n",
       "      <td>0.140000</td>\n",
       "      <td>0.173100</td>\n",
       "      <td>0.150000</td>\n",
       "      <td>0.050000</td>\n",
       "      <td>0.080000</td>\n",
       "    </tr>\n",
       "    <tr>\n",
       "      <th>50%</th>\n",
       "      <td>0.200000</td>\n",
       "      <td>0.180000</td>\n",
       "      <td>0.200000</td>\n",
       "      <td>0.180000</td>\n",
       "      <td>0.100000</td>\n",
       "      <td>0.100000</td>\n",
       "    </tr>\n",
       "    <tr>\n",
       "      <th>75%</th>\n",
       "      <td>0.250000</td>\n",
       "      <td>0.200000</td>\n",
       "      <td>0.227323</td>\n",
       "      <td>0.200000</td>\n",
       "      <td>0.150000</td>\n",
       "      <td>0.150000</td>\n",
       "    </tr>\n",
       "    <tr>\n",
       "      <th>max</th>\n",
       "      <td>1.000000</td>\n",
       "      <td>0.600000</td>\n",
       "      <td>0.500000</td>\n",
       "      <td>0.500000</td>\n",
       "      <td>0.358108</td>\n",
       "      <td>0.300000</td>\n",
       "    </tr>\n",
       "  </tbody>\n",
       "</table>\n",
       "</div>"
      ],
      "text/plain": [
       "           attr1_1      sinc1_1     intel1_1       fun1_1       amb1_1  \\\n",
       "count  4629.000000  4629.000000  4629.000000  4629.000000  4629.000000   \n",
       "mean      0.224966     0.170440     0.201641     0.172309     0.106942   \n",
       "std       0.127057     0.072438     0.070870     0.062112     0.060834   \n",
       "min       0.000000     0.000000     0.000000     0.000000     0.000000   \n",
       "25%       0.150000     0.140000     0.173100     0.150000     0.050000   \n",
       "50%       0.200000     0.180000     0.200000     0.180000     0.100000   \n",
       "75%       0.250000     0.200000     0.227323     0.200000     0.150000   \n",
       "max       1.000000     0.600000     0.500000     0.500000     0.358108   \n",
       "\n",
       "           shar1_1  \n",
       "count  4629.000000  \n",
       "mean      0.113765  \n",
       "std       0.062099  \n",
       "min       0.000000  \n",
       "25%       0.080000  \n",
       "50%       0.100000  \n",
       "75%       0.150000  \n",
       "max       0.300000  "
      ]
     },
     "execution_count": 409,
     "metadata": {},
     "output_type": "execute_result"
    }
   ],
   "source": [
    "dec_data_signup = dating_data_clean.loc[dec_check_no,'attr1_1':'shar1_1']\n",
    "dec_data_signup.describe()"
   ]
  },
  {
   "cell_type": "code",
   "execution_count": 410,
   "metadata": {},
   "outputs": [
    {
     "data": {
      "text/plain": [
       "-0.00051471266892049849"
      ]
     },
     "execution_count": 410,
     "metadata": {},
     "output_type": "execute_result"
    }
   ],
   "source": [
    "r, p_value = pearsonr(dec_data_signup[\"attr1_1\"], dec_data_event[\"attr\"])\n",
    "r"
   ]
  },
  {
   "cell_type": "code",
   "execution_count": 411,
   "metadata": {},
   "outputs": [
    {
     "data": {
      "text/plain": [
       "-0.039554598532254466"
      ]
     },
     "execution_count": 411,
     "metadata": {},
     "output_type": "execute_result"
    }
   ],
   "source": [
    "r, p_value = pearsonr(dec_data_signup[\"sinc1_1\"], dec_data_event[\"sinc\"])\n",
    "r"
   ]
  },
  {
   "cell_type": "code",
   "execution_count": 412,
   "metadata": {},
   "outputs": [
    {
     "data": {
      "text/plain": [
       "0.0055873165749676284"
      ]
     },
     "execution_count": 412,
     "metadata": {},
     "output_type": "execute_result"
    }
   ],
   "source": [
    "r, p_value = pearsonr(dec_data_signup[\"intel1_1\"], dec_data_event[\"intel\"])\n",
    "r"
   ]
  },
  {
   "cell_type": "code",
   "execution_count": 413,
   "metadata": {},
   "outputs": [
    {
     "data": {
      "text/plain": [
       "-0.0057500832787492949"
      ]
     },
     "execution_count": 413,
     "metadata": {},
     "output_type": "execute_result"
    }
   ],
   "source": [
    "r, p_value = pearsonr(dec_data_signup[\"fun1_1\"], dec_data_event[\"fun\"])\n",
    "r"
   ]
  },
  {
   "cell_type": "code",
   "execution_count": 414,
   "metadata": {},
   "outputs": [
    {
     "data": {
      "text/plain": [
       "0.073008487335619182"
      ]
     },
     "execution_count": 414,
     "metadata": {},
     "output_type": "execute_result"
    }
   ],
   "source": [
    "r, p_value = pearsonr(dec_data_signup[\"amb1_1\"], dec_data_event[\"amb\"])\n",
    "r"
   ]
  },
  {
   "cell_type": "code",
   "execution_count": 415,
   "metadata": {},
   "outputs": [
    {
     "data": {
      "text/plain": [
       "-0.00041948542298585808"
      ]
     },
     "execution_count": 415,
     "metadata": {},
     "output_type": "execute_result"
    }
   ],
   "source": [
    "r, p_value = pearsonr(dec_data_signup[\"shar1_1\"], dec_data_event[\"shar\"])\n",
    "r"
   ]
  },
  {
   "cell_type": "markdown",
   "metadata": {},
   "source": [
    "All but intelligence attribute have negative correlation, which is expected for the group with decision = no\n",
    "\n",
    "Weak correlation between attributes that were ranked based on importance at sign up and attributes ranking the night of even for participants that said no to a second date, which may indicate that they said no because the partner didn't meet their expectations in the important attributes."
   ]
  },
  {
   "cell_type": "markdown",
   "metadata": {},
   "source": [
    "**Analysis between self evaluation and ratings received by partner when decision to be seen by partner again = yes**\n",
    "\n",
    "Question: does the self assessment (self-confidence regarding own attributes) define how the participant is perceived by partners?"
   ]
  },
  {
   "cell_type": "code",
   "execution_count": 495,
   "metadata": {},
   "outputs": [
    {
     "data": {
      "text/html": [
       "<div>\n",
       "<style scoped>\n",
       "    .dataframe tbody tr th:only-of-type {\n",
       "        vertical-align: middle;\n",
       "    }\n",
       "\n",
       "    .dataframe tbody tr th {\n",
       "        vertical-align: top;\n",
       "    }\n",
       "\n",
       "    .dataframe thead th {\n",
       "        text-align: right;\n",
       "    }\n",
       "</style>\n",
       "<table border=\"1\" class=\"dataframe\">\n",
       "  <thead>\n",
       "    <tr style=\"text-align: right;\">\n",
       "      <th></th>\n",
       "      <th>attr3_1</th>\n",
       "      <th>sinc3_1</th>\n",
       "      <th>fun3_1</th>\n",
       "      <th>intel3_1</th>\n",
       "      <th>amb3_1</th>\n",
       "    </tr>\n",
       "  </thead>\n",
       "  <tbody>\n",
       "    <tr>\n",
       "      <th>count</th>\n",
       "      <td>3501.000000</td>\n",
       "      <td>3501.000000</td>\n",
       "      <td>3501.000000</td>\n",
       "      <td>3501.000000</td>\n",
       "      <td>3501.000000</td>\n",
       "    </tr>\n",
       "    <tr>\n",
       "      <th>mean</th>\n",
       "      <td>0.176693</td>\n",
       "      <td>0.209894</td>\n",
       "      <td>0.193718</td>\n",
       "      <td>0.215201</td>\n",
       "      <td>0.191071</td>\n",
       "    </tr>\n",
       "    <tr>\n",
       "      <th>std</th>\n",
       "      <td>0.035148</td>\n",
       "      <td>0.041656</td>\n",
       "      <td>0.039154</td>\n",
       "      <td>0.036100</td>\n",
       "      <td>0.043039</td>\n",
       "    </tr>\n",
       "    <tr>\n",
       "      <th>min</th>\n",
       "      <td>0.000000</td>\n",
       "      <td>0.000000</td>\n",
       "      <td>0.000000</td>\n",
       "      <td>0.000000</td>\n",
       "      <td>0.000000</td>\n",
       "    </tr>\n",
       "    <tr>\n",
       "      <th>25%</th>\n",
       "      <td>0.162162</td>\n",
       "      <td>0.200000</td>\n",
       "      <td>0.179487</td>\n",
       "      <td>0.200000</td>\n",
       "      <td>0.175000</td>\n",
       "    </tr>\n",
       "    <tr>\n",
       "      <th>50%</th>\n",
       "      <td>0.181818</td>\n",
       "      <td>0.214286</td>\n",
       "      <td>0.200000</td>\n",
       "      <td>0.214286</td>\n",
       "      <td>0.200000</td>\n",
       "    </tr>\n",
       "    <tr>\n",
       "      <th>75%</th>\n",
       "      <td>0.200000</td>\n",
       "      <td>0.230769</td>\n",
       "      <td>0.214286</td>\n",
       "      <td>0.232558</td>\n",
       "      <td>0.214286</td>\n",
       "    </tr>\n",
       "    <tr>\n",
       "      <th>max</th>\n",
       "      <td>0.264706</td>\n",
       "      <td>0.347826</td>\n",
       "      <td>0.303030</td>\n",
       "      <td>0.360000</td>\n",
       "      <td>0.285714</td>\n",
       "    </tr>\n",
       "  </tbody>\n",
       "</table>\n",
       "</div>"
      ],
      "text/plain": [
       "           attr3_1      sinc3_1       fun3_1     intel3_1       amb3_1\n",
       "count  3501.000000  3501.000000  3501.000000  3501.000000  3501.000000\n",
       "mean      0.176693     0.209894     0.193718     0.215201     0.191071\n",
       "std       0.035148     0.041656     0.039154     0.036100     0.043039\n",
       "min       0.000000     0.000000     0.000000     0.000000     0.000000\n",
       "25%       0.162162     0.200000     0.179487     0.200000     0.175000\n",
       "50%       0.181818     0.214286     0.200000     0.214286     0.200000\n",
       "75%       0.200000     0.230769     0.214286     0.232558     0.214286\n",
       "max       0.264706     0.347826     0.303030     0.360000     0.285714"
      ]
     },
     "execution_count": 495,
     "metadata": {},
     "output_type": "execute_result"
    }
   ],
   "source": [
    "dec_data_self = dating_data_clean.loc[dec_check,'attr3_1':'amb3_1']\n",
    "dec_data_self.describe()"
   ]
  },
  {
   "cell_type": "code",
   "execution_count": 496,
   "metadata": {},
   "outputs": [
    {
     "data": {
      "text/html": [
       "<div>\n",
       "<style scoped>\n",
       "    .dataframe tbody tr th:only-of-type {\n",
       "        vertical-align: middle;\n",
       "    }\n",
       "\n",
       "    .dataframe tbody tr th {\n",
       "        vertical-align: top;\n",
       "    }\n",
       "\n",
       "    .dataframe thead th {\n",
       "        text-align: right;\n",
       "    }\n",
       "</style>\n",
       "<table border=\"1\" class=\"dataframe\">\n",
       "  <thead>\n",
       "    <tr style=\"text-align: right;\">\n",
       "      <th></th>\n",
       "      <th>pf_o_att</th>\n",
       "      <th>pf_o_sin</th>\n",
       "      <th>pf_o_int</th>\n",
       "      <th>pf_o_fun</th>\n",
       "      <th>pf_o_amb</th>\n",
       "      <th>pf_o_sha</th>\n",
       "    </tr>\n",
       "  </thead>\n",
       "  <tbody>\n",
       "    <tr>\n",
       "      <th>count</th>\n",
       "      <td>3501.000000</td>\n",
       "      <td>3501.000000</td>\n",
       "      <td>3501.000000</td>\n",
       "      <td>3501.000000</td>\n",
       "      <td>3501.000000</td>\n",
       "      <td>3501.000000</td>\n",
       "    </tr>\n",
       "    <tr>\n",
       "      <th>mean</th>\n",
       "      <td>0.227281</td>\n",
       "      <td>0.166043</td>\n",
       "      <td>0.200332</td>\n",
       "      <td>0.174684</td>\n",
       "      <td>0.107601</td>\n",
       "      <td>0.110634</td>\n",
       "    </tr>\n",
       "    <tr>\n",
       "      <th>std</th>\n",
       "      <td>0.138812</td>\n",
       "      <td>0.071668</td>\n",
       "      <td>0.072088</td>\n",
       "      <td>0.064646</td>\n",
       "      <td>0.062691</td>\n",
       "      <td>0.062403</td>\n",
       "    </tr>\n",
       "    <tr>\n",
       "      <th>min</th>\n",
       "      <td>0.000000</td>\n",
       "      <td>0.000000</td>\n",
       "      <td>0.000000</td>\n",
       "      <td>0.000000</td>\n",
       "      <td>0.000000</td>\n",
       "      <td>0.000000</td>\n",
       "    </tr>\n",
       "    <tr>\n",
       "      <th>25%</th>\n",
       "      <td>0.150000</td>\n",
       "      <td>0.125000</td>\n",
       "      <td>0.173100</td>\n",
       "      <td>0.150000</td>\n",
       "      <td>0.050000</td>\n",
       "      <td>0.055556</td>\n",
       "    </tr>\n",
       "    <tr>\n",
       "      <th>50%</th>\n",
       "      <td>0.200000</td>\n",
       "      <td>0.179500</td>\n",
       "      <td>0.200000</td>\n",
       "      <td>0.181818</td>\n",
       "      <td>0.100000</td>\n",
       "      <td>0.100000</td>\n",
       "    </tr>\n",
       "    <tr>\n",
       "      <th>75%</th>\n",
       "      <td>0.250000</td>\n",
       "      <td>0.200000</td>\n",
       "      <td>0.222222</td>\n",
       "      <td>0.200000</td>\n",
       "      <td>0.150000</td>\n",
       "      <td>0.150000</td>\n",
       "    </tr>\n",
       "    <tr>\n",
       "      <th>max</th>\n",
       "      <td>1.000000</td>\n",
       "      <td>0.600000</td>\n",
       "      <td>0.500000</td>\n",
       "      <td>0.500000</td>\n",
       "      <td>0.358108</td>\n",
       "      <td>0.300000</td>\n",
       "    </tr>\n",
       "  </tbody>\n",
       "</table>\n",
       "</div>"
      ],
      "text/plain": [
       "          pf_o_att     pf_o_sin     pf_o_int     pf_o_fun     pf_o_amb  \\\n",
       "count  3501.000000  3501.000000  3501.000000  3501.000000  3501.000000   \n",
       "mean      0.227281     0.166043     0.200332     0.174684     0.107601   \n",
       "std       0.138812     0.071668     0.072088     0.064646     0.062691   \n",
       "min       0.000000     0.000000     0.000000     0.000000     0.000000   \n",
       "25%       0.150000     0.125000     0.173100     0.150000     0.050000   \n",
       "50%       0.200000     0.179500     0.200000     0.181818     0.100000   \n",
       "75%       0.250000     0.200000     0.222222     0.200000     0.150000   \n",
       "max       1.000000     0.600000     0.500000     0.500000     0.358108   \n",
       "\n",
       "          pf_o_sha  \n",
       "count  3501.000000  \n",
       "mean      0.110634  \n",
       "std       0.062403  \n",
       "min       0.000000  \n",
       "25%       0.055556  \n",
       "50%       0.100000  \n",
       "75%       0.150000  \n",
       "max       0.300000  "
      ]
     },
     "execution_count": 496,
     "metadata": {},
     "output_type": "execute_result"
    }
   ],
   "source": [
    "dec_data_partner = dating_data_clean.loc[dec_check,'pf_o_att':'pf_o_sha']\n",
    "dec_data_partner.describe()"
   ]
  },
  {
   "cell_type": "code",
   "execution_count": 497,
   "metadata": {},
   "outputs": [
    {
     "data": {
      "text/plain": [
       "-0.029551871953478265"
      ]
     },
     "execution_count": 497,
     "metadata": {},
     "output_type": "execute_result"
    }
   ],
   "source": [
    "r, p_value = pearsonr(dec_data_self[\"attr3_1\"], dec_data_partner[\"pf_o_att\"])\n",
    "r"
   ]
  },
  {
   "cell_type": "code",
   "execution_count": 498,
   "metadata": {},
   "outputs": [
    {
     "data": {
      "text/plain": [
       "0.015129644062762451"
      ]
     },
     "execution_count": 498,
     "metadata": {},
     "output_type": "execute_result"
    }
   ],
   "source": [
    "r, p_value = pearsonr(dec_data_self[\"sinc3_1\"], dec_data_partner[\"pf_o_sin\"])\n",
    "r"
   ]
  },
  {
   "cell_type": "code",
   "execution_count": 499,
   "metadata": {},
   "outputs": [
    {
     "data": {
      "text/plain": [
       "-0.022140472044141286"
      ]
     },
     "execution_count": 499,
     "metadata": {},
     "output_type": "execute_result"
    }
   ],
   "source": [
    "r, p_value = pearsonr(dec_data_self[\"intel3_1\"], dec_data_partner[\"pf_o_fun\"])\n",
    "r"
   ]
  },
  {
   "cell_type": "code",
   "execution_count": 500,
   "metadata": {},
   "outputs": [
    {
     "data": {
      "text/plain": [
       "0.025746852496231536"
      ]
     },
     "execution_count": 500,
     "metadata": {},
     "output_type": "execute_result"
    }
   ],
   "source": [
    "r, p_value = pearsonr(dec_data_self[\"fun3_1\"], dec_data_partner[\"pf_o_fun\"])\n",
    "r"
   ]
  },
  {
   "cell_type": "code",
   "execution_count": 422,
   "metadata": {},
   "outputs": [
    {
     "data": {
      "text/plain": [
       "0.016600644569527954"
      ]
     },
     "execution_count": 422,
     "metadata": {},
     "output_type": "execute_result"
    }
   ],
   "source": [
    "r, p_value = pearsonr(dec_data_self[\"amb3_1\"], dec_data_partner[\"pf_o_amb\"])\n",
    "r"
   ]
  },
  {
   "cell_type": "markdown",
   "metadata": {},
   "source": [
    "Weak correlation between self-assessment and ratings received by partners."
   ]
  },
  {
   "cell_type": "markdown",
   "metadata": {},
   "source": [
    "**Analysis between self assessment and ratings received by partner when decision to be seen by partner again = no**"
   ]
  },
  {
   "cell_type": "code",
   "execution_count": 423,
   "metadata": {},
   "outputs": [
    {
     "data": {
      "text/html": [
       "<div>\n",
       "<style scoped>\n",
       "    .dataframe tbody tr th:only-of-type {\n",
       "        vertical-align: middle;\n",
       "    }\n",
       "\n",
       "    .dataframe tbody tr th {\n",
       "        vertical-align: top;\n",
       "    }\n",
       "\n",
       "    .dataframe thead th {\n",
       "        text-align: right;\n",
       "    }\n",
       "</style>\n",
       "<table border=\"1\" class=\"dataframe\">\n",
       "  <thead>\n",
       "    <tr style=\"text-align: right;\">\n",
       "      <th></th>\n",
       "      <th>attr3_1</th>\n",
       "      <th>sinc3_1</th>\n",
       "      <th>fun3_1</th>\n",
       "      <th>intel3_1</th>\n",
       "      <th>amb3_1</th>\n",
       "    </tr>\n",
       "  </thead>\n",
       "  <tbody>\n",
       "    <tr>\n",
       "      <th>count</th>\n",
       "      <td>4629.000000</td>\n",
       "      <td>4629.000000</td>\n",
       "      <td>4629.000000</td>\n",
       "      <td>4629.000000</td>\n",
       "      <td>4629.000000</td>\n",
       "    </tr>\n",
       "    <tr>\n",
       "      <th>mean</th>\n",
       "      <td>0.180393</td>\n",
       "      <td>0.211420</td>\n",
       "      <td>0.194544</td>\n",
       "      <td>0.212983</td>\n",
       "      <td>0.190290</td>\n",
       "    </tr>\n",
       "    <tr>\n",
       "      <th>std</th>\n",
       "      <td>0.032311</td>\n",
       "      <td>0.040670</td>\n",
       "      <td>0.035735</td>\n",
       "      <td>0.034069</td>\n",
       "      <td>0.040758</td>\n",
       "    </tr>\n",
       "    <tr>\n",
       "      <th>min</th>\n",
       "      <td>0.000000</td>\n",
       "      <td>0.000000</td>\n",
       "      <td>0.000000</td>\n",
       "      <td>0.000000</td>\n",
       "      <td>0.000000</td>\n",
       "    </tr>\n",
       "    <tr>\n",
       "      <th>25%</th>\n",
       "      <td>0.166667</td>\n",
       "      <td>0.195122</td>\n",
       "      <td>0.181818</td>\n",
       "      <td>0.200000</td>\n",
       "      <td>0.175000</td>\n",
       "    </tr>\n",
       "    <tr>\n",
       "      <th>50%</th>\n",
       "      <td>0.184211</td>\n",
       "      <td>0.214286</td>\n",
       "      <td>0.200000</td>\n",
       "      <td>0.210526</td>\n",
       "      <td>0.200000</td>\n",
       "    </tr>\n",
       "    <tr>\n",
       "      <th>75%</th>\n",
       "      <td>0.200000</td>\n",
       "      <td>0.232558</td>\n",
       "      <td>0.214286</td>\n",
       "      <td>0.227273</td>\n",
       "      <td>0.214286</td>\n",
       "    </tr>\n",
       "    <tr>\n",
       "      <th>max</th>\n",
       "      <td>0.264706</td>\n",
       "      <td>0.347826</td>\n",
       "      <td>0.303030</td>\n",
       "      <td>0.360000</td>\n",
       "      <td>0.285714</td>\n",
       "    </tr>\n",
       "  </tbody>\n",
       "</table>\n",
       "</div>"
      ],
      "text/plain": [
       "           attr3_1      sinc3_1       fun3_1     intel3_1       amb3_1\n",
       "count  4629.000000  4629.000000  4629.000000  4629.000000  4629.000000\n",
       "mean      0.180393     0.211420     0.194544     0.212983     0.190290\n",
       "std       0.032311     0.040670     0.035735     0.034069     0.040758\n",
       "min       0.000000     0.000000     0.000000     0.000000     0.000000\n",
       "25%       0.166667     0.195122     0.181818     0.200000     0.175000\n",
       "50%       0.184211     0.214286     0.200000     0.210526     0.200000\n",
       "75%       0.200000     0.232558     0.214286     0.227273     0.214286\n",
       "max       0.264706     0.347826     0.303030     0.360000     0.285714"
      ]
     },
     "execution_count": 423,
     "metadata": {},
     "output_type": "execute_result"
    }
   ],
   "source": [
    "dec_data_self_no = dating_data_clean.loc[dec_check_no,'attr3_1':'amb3_1']\n",
    "dec_data_self_no.describe()"
   ]
  },
  {
   "cell_type": "code",
   "execution_count": 424,
   "metadata": {},
   "outputs": [
    {
     "data": {
      "text/html": [
       "<div>\n",
       "<style scoped>\n",
       "    .dataframe tbody tr th:only-of-type {\n",
       "        vertical-align: middle;\n",
       "    }\n",
       "\n",
       "    .dataframe tbody tr th {\n",
       "        vertical-align: top;\n",
       "    }\n",
       "\n",
       "    .dataframe thead th {\n",
       "        text-align: right;\n",
       "    }\n",
       "</style>\n",
       "<table border=\"1\" class=\"dataframe\">\n",
       "  <thead>\n",
       "    <tr style=\"text-align: right;\">\n",
       "      <th></th>\n",
       "      <th>pf_o_att</th>\n",
       "      <th>pf_o_sin</th>\n",
       "      <th>pf_o_int</th>\n",
       "      <th>pf_o_fun</th>\n",
       "      <th>pf_o_amb</th>\n",
       "      <th>pf_o_sha</th>\n",
       "    </tr>\n",
       "  </thead>\n",
       "  <tbody>\n",
       "    <tr>\n",
       "      <th>count</th>\n",
       "      <td>4629.000000</td>\n",
       "      <td>4629.000000</td>\n",
       "      <td>4629.000000</td>\n",
       "      <td>4629.000000</td>\n",
       "      <td>4629.000000</td>\n",
       "      <td>4629.000000</td>\n",
       "    </tr>\n",
       "    <tr>\n",
       "      <th>mean</th>\n",
       "      <td>0.218194</td>\n",
       "      <td>0.177146</td>\n",
       "      <td>0.201322</td>\n",
       "      <td>0.170772</td>\n",
       "      <td>0.104174</td>\n",
       "      <td>0.121046</td>\n",
       "    </tr>\n",
       "    <tr>\n",
       "      <th>std</th>\n",
       "      <td>0.116682</td>\n",
       "      <td>0.072222</td>\n",
       "      <td>0.069449</td>\n",
       "      <td>0.062077</td>\n",
       "      <td>0.059327</td>\n",
       "      <td>0.066038</td>\n",
       "    </tr>\n",
       "    <tr>\n",
       "      <th>min</th>\n",
       "      <td>0.000000</td>\n",
       "      <td>0.000000</td>\n",
       "      <td>0.000000</td>\n",
       "      <td>0.000000</td>\n",
       "      <td>0.000000</td>\n",
       "      <td>0.000000</td>\n",
       "    </tr>\n",
       "    <tr>\n",
       "      <th>25%</th>\n",
       "      <td>0.150000</td>\n",
       "      <td>0.150000</td>\n",
       "      <td>0.173100</td>\n",
       "      <td>0.150000</td>\n",
       "      <td>0.050000</td>\n",
       "      <td>0.100000</td>\n",
       "    </tr>\n",
       "    <tr>\n",
       "      <th>50%</th>\n",
       "      <td>0.200000</td>\n",
       "      <td>0.190000</td>\n",
       "      <td>0.200000</td>\n",
       "      <td>0.173900</td>\n",
       "      <td>0.100000</td>\n",
       "      <td>0.116312</td>\n",
       "    </tr>\n",
       "    <tr>\n",
       "      <th>75%</th>\n",
       "      <td>0.250000</td>\n",
       "      <td>0.200000</td>\n",
       "      <td>0.238100</td>\n",
       "      <td>0.200000</td>\n",
       "      <td>0.150000</td>\n",
       "      <td>0.162816</td>\n",
       "    </tr>\n",
       "    <tr>\n",
       "      <th>max</th>\n",
       "      <td>1.000000</td>\n",
       "      <td>0.600000</td>\n",
       "      <td>0.500000</td>\n",
       "      <td>0.500000</td>\n",
       "      <td>0.358108</td>\n",
       "      <td>0.300000</td>\n",
       "    </tr>\n",
       "  </tbody>\n",
       "</table>\n",
       "</div>"
      ],
      "text/plain": [
       "          pf_o_att     pf_o_sin     pf_o_int     pf_o_fun     pf_o_amb  \\\n",
       "count  4629.000000  4629.000000  4629.000000  4629.000000  4629.000000   \n",
       "mean      0.218194     0.177146     0.201322     0.170772     0.104174   \n",
       "std       0.116682     0.072222     0.069449     0.062077     0.059327   \n",
       "min       0.000000     0.000000     0.000000     0.000000     0.000000   \n",
       "25%       0.150000     0.150000     0.173100     0.150000     0.050000   \n",
       "50%       0.200000     0.190000     0.200000     0.173900     0.100000   \n",
       "75%       0.250000     0.200000     0.238100     0.200000     0.150000   \n",
       "max       1.000000     0.600000     0.500000     0.500000     0.358108   \n",
       "\n",
       "          pf_o_sha  \n",
       "count  4629.000000  \n",
       "mean      0.121046  \n",
       "std       0.066038  \n",
       "min       0.000000  \n",
       "25%       0.100000  \n",
       "50%       0.116312  \n",
       "75%       0.162816  \n",
       "max       0.300000  "
      ]
     },
     "execution_count": 424,
     "metadata": {},
     "output_type": "execute_result"
    }
   ],
   "source": [
    "dec_data_partner_no = dating_data_clean.loc[dec_check_no,'pf_o_att':'pf_o_sha']\n",
    "dec_data_partner_no.describe()"
   ]
  },
  {
   "cell_type": "markdown",
   "metadata": {},
   "source": [
    "### Distances between attributes importance for each participant in a date at sign up:\n",
    "\n",
    "Question: does the distance between what is important for the couple at sign up has any impact on the decion for a second date?"
   ]
  },
  {
   "cell_type": "code",
   "execution_count": 456,
   "metadata": {},
   "outputs": [],
   "source": [
    "dis_att_imp = abs(dating_data_clean['pf_o_att'] - dating_data_clean['attr1_1'])\n",
    "dis_sinc_imp = abs(dating_data_clean['pf_o_sin'] - dating_data_clean['sinc1_1'])\n",
    "dis_intel_imp = abs(dating_data_clean['pf_o_int'] - dating_data_clean['intel1_1'])\n",
    "dis_fun_imp = abs(dating_data_clean['pf_o_fun'] - dating_data_clean['fun1_1'])\n",
    "dis_amb_imp = abs(dating_data_clean['pf_o_amb'] - dating_data_clean['amb1_1'])\n",
    "dis_sha_imp = abs(dating_data_clean['pf_o_sha'] - dating_data_clean['shar1_1'])\n"
   ]
  },
  {
   "cell_type": "code",
   "execution_count": 458,
   "metadata": {},
   "outputs": [],
   "source": [
    "# Distance for each attribute for each couple:\n",
    "\n",
    "dating_data_clean['dis_att_imp'] = dis_att_imp\n",
    "dating_data_clean['dis_sinc_imp'] = dis_sinc_imp\n",
    "dating_data_clean['dis_intel_imp'] = dis_intel_imp\n",
    "dating_data_clean['dis_fun_imp'] = dis_fun_imp\n",
    "dating_data_clean['dis_amb_imp'] = dis_amb_imp\n",
    "dating_data_clean['dis_sha_imp'] = dis_sha_imp"
   ]
  },
  {
   "cell_type": "code",
   "execution_count": 457,
   "metadata": {},
   "outputs": [],
   "source": [
    "# Euclidean distance of all attributes importance for each couple:\n",
    "\n",
    "dating_data_clean['dist_imp'] = (dis_att_imp**2 + dis_sinc_imp**2 + dis_intel_imp**2 + dis_fun_imp**2 + dis_amb_imp**2 + dis_sha_imp**2)**(1/2)"
   ]
  },
  {
   "cell_type": "code",
   "execution_count": 459,
   "metadata": {},
   "outputs": [],
   "source": [
    "## Square distance for each attribute (to allow better comparison if differences are very close)\n",
    "\n",
    "dating_data_clean['dis_att_imp2'] = dis_att_imp**2\n",
    "dating_data_clean['dis_sinc_imp2'] = dis_sinc_imp**2\n",
    "dating_data_clean['dis_intel_imp2'] = dis_intel_imp**2\n",
    "dating_data_clean['dis_fun_imp2'] = dis_fun_imp**2\n",
    "dating_data_clean['dis_amb_imp2'] = dis_amb_imp**2\n",
    "dating_data_clean['dis_sha_imp2'] = dis_sha_imp**2"
   ]
  },
  {
   "cell_type": "markdown",
   "metadata": {},
   "source": [
    "**Distance when match (both participants opted for a 2nd date) is yes**"
   ]
  },
  {
   "cell_type": "code",
   "execution_count": 460,
   "metadata": {},
   "outputs": [],
   "source": [
    "dating_data_imp_yes = dating_data_clean[dating_data_clean['match'] == 1]"
   ]
  },
  {
   "cell_type": "code",
   "execution_count": 461,
   "metadata": {},
   "outputs": [
    {
     "data": {
      "text/plain": [
       "dis_att_imp      0.098995\n",
       "dis_sinc_imp     0.050000\n",
       "dis_intel_imp    0.050000\n",
       "dis_fun_imp      0.050000\n",
       "dis_amb_imp      0.050000\n",
       "dis_sha_imp      0.056812\n",
       "dtype: float64"
      ]
     },
     "execution_count": 461,
     "metadata": {},
     "output_type": "execute_result"
    }
   ],
   "source": [
    "# Median of difference for each attribute\n",
    "\n",
    "dating_data_imp_yes[['dis_att_imp', 'dis_sinc_imp', 'dis_intel_imp', 'dis_fun_imp', 'dis_amb_imp', 'dis_sha_imp']].median()"
   ]
  },
  {
   "cell_type": "code",
   "execution_count": 462,
   "metadata": {},
   "outputs": [
    {
     "data": {
      "text/plain": [
       "dis_att_imp2      0.009800\n",
       "dis_sinc_imp2     0.002500\n",
       "dis_intel_imp2    0.002500\n",
       "dis_fun_imp2      0.002500\n",
       "dis_amb_imp2      0.002500\n",
       "dis_sha_imp2      0.003228\n",
       "dtype: float64"
      ]
     },
     "execution_count": 462,
     "metadata": {},
     "output_type": "execute_result"
    }
   ],
   "source": [
    "# Median of square difference for each attribute\n",
    "\n",
    "dating_data_imp_yes[['dis_att_imp2', 'dis_sinc_imp2', 'dis_intel_imp2', 'dis_fun_imp2', 'dis_amb_imp2', 'dis_sha_imp2']].median()"
   ]
  },
  {
   "cell_type": "code",
   "execution_count": 463,
   "metadata": {},
   "outputs": [
    {
     "data": {
      "text/plain": [
       "0.2017422577816702"
      ]
     },
     "execution_count": 463,
     "metadata": {},
     "output_type": "execute_result"
    }
   ],
   "source": [
    "# Median of distance for all attributes\n",
    "\n",
    "dating_data_imp_yes['dist_imp'].median()"
   ]
  },
  {
   "cell_type": "markdown",
   "metadata": {},
   "source": [
    "**Distance when match is no**"
   ]
  },
  {
   "cell_type": "code",
   "execution_count": 464,
   "metadata": {},
   "outputs": [],
   "source": [
    "dating_data_imp_no = dating_data_clean[dating_data_clean['match'] == 0]"
   ]
  },
  {
   "cell_type": "code",
   "execution_count": 465,
   "metadata": {},
   "outputs": [
    {
     "data": {
      "text/plain": [
       "dis_att_imp      0.10\n",
       "dis_sinc_imp     0.05\n",
       "dis_intel_imp    0.05\n",
       "dis_fun_imp      0.05\n",
       "dis_amb_imp      0.05\n",
       "dis_sha_imp      0.05\n",
       "dtype: float64"
      ]
     },
     "execution_count": 465,
     "metadata": {},
     "output_type": "execute_result"
    }
   ],
   "source": [
    "# Median of difference for each attribute\n",
    "\n",
    "dating_data_imp_no[['dis_att_imp', 'dis_sinc_imp', 'dis_intel_imp', 'dis_fun_imp', 'dis_amb_imp', 'dis_sha_imp']].median()"
   ]
  },
  {
   "cell_type": "code",
   "execution_count": 466,
   "metadata": {},
   "outputs": [
    {
     "data": {
      "text/plain": [
       "dis_att_imp2      0.0100\n",
       "dis_sinc_imp2     0.0025\n",
       "dis_intel_imp2    0.0025\n",
       "dis_fun_imp2      0.0025\n",
       "dis_amb_imp2      0.0025\n",
       "dis_sha_imp2      0.0025\n",
       "dtype: float64"
      ]
     },
     "execution_count": 466,
     "metadata": {},
     "output_type": "execute_result"
    }
   ],
   "source": [
    "# Median of square difference for each attribute\n",
    "\n",
    "dating_data_imp_no[['dis_att_imp2', 'dis_sinc_imp2', 'dis_intel_imp2', 'dis_fun_imp2', 'dis_amb_imp2', 'dis_sha_imp2']].median()"
   ]
  },
  {
   "cell_type": "code",
   "execution_count": 467,
   "metadata": {},
   "outputs": [
    {
     "data": {
      "text/plain": [
       "0.21213203435596428"
      ]
     },
     "execution_count": 467,
     "metadata": {},
     "output_type": "execute_result"
    }
   ],
   "source": [
    "# Median of distance for all attributes\n",
    "\n",
    "dating_data_imp_no['dist_imp'].median()"
   ]
  },
  {
   "cell_type": "markdown",
   "metadata": {},
   "source": [
    "Insight:\n",
    "- The median of distance for each attribute is not very conclusive for this analysis\n",
    "- The median of square distance for each attribute is not very conclusive for this analysis\n",
    "- The median of total distance for attributes importance is lower in participants who matched. It may indicate that participants who value the same tend to say as to a 2nd date (match). "
   ]
  },
  {
   "cell_type": "markdown",
   "metadata": {},
   "source": [
    "### Distances between self evaluated attributes:"
   ]
  },
  {
   "cell_type": "markdown",
   "metadata": {},
   "source": [
    "**Determining the self evaluation for all participants and merging it (not readily available in the Dataframe)**"
   ]
  },
  {
   "cell_type": "code",
   "execution_count": 468,
   "metadata": {},
   "outputs": [],
   "source": [
    "dating_self = dating_data_clean[['iid', 'attr3_1', 'sinc3_1', 'intel3_1', 'fun3_1', 'amb3_1']].copy()\n",
    "dating_self = dating_self.drop_duplicates()"
   ]
  },
  {
   "cell_type": "code",
   "execution_count": 469,
   "metadata": {},
   "outputs": [
    {
     "data": {
      "text/plain": [
       "Index(['iid_x', 'gender', 'idg', 'partner', 'pid', 'match', 'pf_o_att',\n",
       "       'pf_o_sin', 'pf_o_int', 'pf_o_fun', 'pf_o_amb', 'pf_o_sha', 'dec_o',\n",
       "       'attr_o', 'sinc_o', 'intel_o', 'fun_o', 'amb_o', 'shar_o', 'like_o',\n",
       "       'prob_o', 'met_o', 'age', 'field_cd', 'goal', 'date', 'go_out',\n",
       "       'career_c', 'sports', 'tvsports', 'exercise', 'dining', 'museums',\n",
       "       'art', 'hiking', 'gaming', 'clubbing', 'reading', 'tv', 'theater',\n",
       "       'movies', 'concerts', 'music', 'shopping', 'yoga', 'exphappy', 'expnum',\n",
       "       'attr1_1', 'sinc1_1', 'intel1_1', 'fun1_1', 'amb1_1', 'shar1_1',\n",
       "       'attr3_1_x', 'sinc3_1_x', 'fun3_1_x', 'intel3_1_x', 'amb3_1_x', 'dec',\n",
       "       'attr', 'sinc', 'intel', 'fun', 'amb', 'shar', 'like', 'prob', 'met',\n",
       "       'match_es', 'attr3_s', 'sinc3_s', 'intel3_s', 'fun3_s', 'amb3_s',\n",
       "       'dist_imp', 'dis_att_imp', 'dis_sinc_imp', 'dis_intel_imp',\n",
       "       'dis_fun_imp', 'dis_amb_imp', 'dis_sha_imp', 'dis_att_imp2',\n",
       "       'dis_sinc_imp2', 'dis_intel_imp2', 'dis_fun_imp2', 'dis_amb_imp2',\n",
       "       'dis_sha_imp2', 'iid_y', 'attr3_1_y', 'sinc3_1_y', 'intel3_1_y',\n",
       "       'fun3_1_y', 'amb3_1_y'],\n",
       "      dtype='object')"
      ]
     },
     "execution_count": 469,
     "metadata": {},
     "output_type": "execute_result"
    }
   ],
   "source": [
    "dating_data_self = dating_data_clean.merge(dating_self, how='inner', left_on = 'pid', right_on = 'iid')\n",
    "dating_data_self.columns"
   ]
  },
  {
   "cell_type": "markdown",
   "metadata": {},
   "source": [
    "**Calculating distances**"
   ]
  },
  {
   "cell_type": "code",
   "execution_count": 470,
   "metadata": {},
   "outputs": [],
   "source": [
    "dis_att = abs(dating_data_self['attr3_1_x'] - dating_data_self['attr3_1_y'])\n",
    "dis_sinc = abs(dating_data_self['sinc3_1_x'] - dating_data_self['sinc3_1_y'])\n",
    "dis_intel = abs(dating_data_self['intel3_1_x'] - dating_data_self['intel3_1_y'])\n",
    "dis_fun = abs(dating_data_self['fun3_1_x'] - dating_data_self['fun3_1_y'])\n",
    "dis_amb = abs(dating_data_self['amb3_1_x'] - dating_data_self['amb3_1_y'])"
   ]
  },
  {
   "cell_type": "code",
   "execution_count": 471,
   "metadata": {},
   "outputs": [],
   "source": [
    "dating_data_self['dis_att_s'] = dis_att\n",
    "dating_data_self['dis_sinc_s'] = dis_sinc\n",
    "dating_data_self['dis_intel_s'] = dis_intel\n",
    "dating_data_self['dis_fun_s'] = dis_fun\n",
    "dating_data_self['dis_amb_s'] = dis_amb"
   ]
  },
  {
   "cell_type": "code",
   "execution_count": 472,
   "metadata": {},
   "outputs": [],
   "source": [
    "dating_data_self['dist_self'] = (dis_att**2 + dis_sinc**2 + dis_intel**2 + dis_fun**2 + dis_amb**2)**(1/2)"
   ]
  },
  {
   "cell_type": "code",
   "execution_count": 473,
   "metadata": {},
   "outputs": [],
   "source": [
    "# Calculating square distance for each attributes to make the comparison easier (bigger numbers)\n",
    "\n",
    "dating_data_self['dis_att_s2'] = dis_att**2\n",
    "dating_data_self['dis_sinc_s2'] = dis_sinc**2\n",
    "dating_data_self['dis_intel_s2'] = dis_intel**2\n",
    "dating_data_self['dis_fun_s2'] = dis_fun**2\n",
    "dating_data_self['dis_amb_s2'] = dis_amb**2"
   ]
  },
  {
   "cell_type": "markdown",
   "metadata": {},
   "source": [
    "**Distance when match is yes**"
   ]
  },
  {
   "cell_type": "code",
   "execution_count": 474,
   "metadata": {},
   "outputs": [],
   "source": [
    "dating_data_self_yes = dating_data_self[dating_data_self['match'] == 1]"
   ]
  },
  {
   "cell_type": "code",
   "execution_count": 475,
   "metadata": {},
   "outputs": [
    {
     "data": {
      "text/plain": [
       "dis_att_s      0.025000\n",
       "dis_sinc_s     0.026374\n",
       "dis_intel_s    0.020455\n",
       "dis_fun_s      0.025000\n",
       "dis_amb_s      0.029268\n",
       "dtype: float64"
      ]
     },
     "execution_count": 475,
     "metadata": {},
     "output_type": "execute_result"
    }
   ],
   "source": [
    "dating_data_self_yes[['dis_att_s', 'dis_sinc_s', 'dis_intel_s', 'dis_fun_s', 'dis_amb_s']].median()"
   ]
  },
  {
   "cell_type": "code",
   "execution_count": 476,
   "metadata": {},
   "outputs": [
    {
     "data": {
      "text/plain": [
       "dis_att_s2      0.000625\n",
       "dis_sinc_s2     0.000696\n",
       "dis_intel_s2    0.000418\n",
       "dis_fun_s2      0.000625\n",
       "dis_amb_s2      0.000857\n",
       "dtype: float64"
      ]
     },
     "execution_count": 476,
     "metadata": {},
     "output_type": "execute_result"
    }
   ],
   "source": [
    "dating_data_self_yes[['dis_att_s2', 'dis_sinc_s2', 'dis_intel_s2', 'dis_fun_s2', 'dis_amb_s2']].median()"
   ]
  },
  {
   "cell_type": "code",
   "execution_count": 477,
   "metadata": {},
   "outputs": [
    {
     "data": {
      "text/plain": [
       "0.0754615548851389"
      ]
     },
     "execution_count": 477,
     "metadata": {},
     "output_type": "execute_result"
    }
   ],
   "source": [
    "dating_data_self_yes['dist_self'].median()"
   ]
  },
  {
   "cell_type": "markdown",
   "metadata": {},
   "source": [
    "**Distance match is no**"
   ]
  },
  {
   "cell_type": "code",
   "execution_count": 478,
   "metadata": {},
   "outputs": [],
   "source": [
    "dating_data_self_no = dating_data_self[dating_data_self['match'] == 0]"
   ]
  },
  {
   "cell_type": "code",
   "execution_count": 479,
   "metadata": {},
   "outputs": [
    {
     "data": {
      "text/plain": [
       "dis_att_s      0.025000\n",
       "dis_sinc_s     0.028674\n",
       "dis_intel_s    0.023443\n",
       "dis_fun_s      0.025094\n",
       "dis_amb_s      0.031714\n",
       "dtype: float64"
      ]
     },
     "execution_count": 479,
     "metadata": {},
     "output_type": "execute_result"
    }
   ],
   "source": [
    "dating_data_self_no[['dis_att_s', 'dis_sinc_s', 'dis_intel_s', 'dis_fun_s', 'dis_amb_s']].median()"
   ]
  },
  {
   "cell_type": "code",
   "execution_count": 480,
   "metadata": {},
   "outputs": [
    {
     "data": {
      "text/plain": [
       "dis_att_s2      0.000625\n",
       "dis_sinc_s2     0.000822\n",
       "dis_intel_s2    0.000550\n",
       "dis_fun_s2      0.000630\n",
       "dis_amb_s2      0.001006\n",
       "dtype: float64"
      ]
     },
     "execution_count": 480,
     "metadata": {},
     "output_type": "execute_result"
    }
   ],
   "source": [
    "dating_data_self_no[['dis_att_s2', 'dis_sinc_s2', 'dis_intel_s2', 'dis_fun_s2', 'dis_amb_s2']].median()"
   ]
  },
  {
   "cell_type": "code",
   "execution_count": 481,
   "metadata": {},
   "outputs": [
    {
     "data": {
      "text/plain": [
       "0.07993541639045745"
      ]
     },
     "execution_count": 481,
     "metadata": {},
     "output_type": "execute_result"
    }
   ],
   "source": [
    "dating_data_self_no['dist_self'].median()"
   ]
  },
  {
   "cell_type": "markdown",
   "metadata": {},
   "source": [
    "Insight:\n",
    "- The distance median for each attribute is very similar for cases with yes (match) or no to a 2nd date\n",
    "- The square distance median for all attribute is lower in cases with a match, except for attractiveness which is the same. It may indicate that how participants who opted for a 2nd date view themselves is more similar than participants who didn't have a match.\n",
    "- The total distance median is lower for participants who decided for a 2nd date, which aligns with the square distance median insight."
   ]
  },
  {
   "cell_type": "markdown",
   "metadata": {},
   "source": [
    "## Conclusion\n",
    "\n",
    "**Features to be explored in the machine learning model:**\n",
    "- Attributes important at sign up\n",
    "- Distance between attributes important at sign up\n",
    "- Distance between self evaluation at sign up"
   ]
  },
  {
   "cell_type": "code",
   "execution_count": null,
   "metadata": {},
   "outputs": [],
   "source": []
  }
 ],
 "metadata": {
  "kernelspec": {
   "display_name": "Python 3",
   "language": "python",
   "name": "python3"
  },
  "language_info": {
   "codemirror_mode": {
    "name": "ipython",
    "version": 3
   },
   "file_extension": ".py",
   "mimetype": "text/x-python",
   "name": "python",
   "nbconvert_exporter": "python",
   "pygments_lexer": "ipython3",
   "version": "3.6.3"
  }
 },
 "nbformat": 4,
 "nbformat_minor": 2
}
